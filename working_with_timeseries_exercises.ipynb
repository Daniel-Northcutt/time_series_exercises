{
 "cells": [
  {
   "cell_type": "code",
   "execution_count": 1,
   "id": "246f85bb",
   "metadata": {},
   "outputs": [],
   "source": [
    "import pandas as pd\n",
    "import numpy as np\n",
    "import datetime\n",
    "\n",
    "import matplotlib.pyplot as plt\n",
    "plt.rcParams[\"figure.figsize\"] = (8,6)\n",
    "\n",
    "import seaborn as sns\n",
    "np.set_printoptions(suppress=True)"
   ]
  },
  {
   "cell_type": "code",
   "execution_count": 3,
   "id": "e9eb184c",
   "metadata": {},
   "outputs": [
    {
     "data": {
      "text/html": [
       "<div>\n",
       "<style scoped>\n",
       "    .dataframe tbody tr th:only-of-type {\n",
       "        vertical-align: middle;\n",
       "    }\n",
       "\n",
       "    .dataframe tbody tr th {\n",
       "        vertical-align: top;\n",
       "    }\n",
       "\n",
       "    .dataframe thead th {\n",
       "        text-align: right;\n",
       "    }\n",
       "</style>\n",
       "<table border=\"1\" class=\"dataframe\">\n",
       "  <thead>\n",
       "    <tr style=\"text-align: right;\">\n",
       "      <th></th>\n",
       "      <th>temp</th>\n",
       "      <th>date</th>\n",
       "    </tr>\n",
       "  </thead>\n",
       "  <tbody>\n",
       "    <tr>\n",
       "      <th>0</th>\n",
       "      <td>47.8</td>\n",
       "      <td>2010-01-01 00:00:00</td>\n",
       "    </tr>\n",
       "    <tr>\n",
       "      <th>1</th>\n",
       "      <td>47.4</td>\n",
       "      <td>2010-01-01 01:00:00</td>\n",
       "    </tr>\n",
       "    <tr>\n",
       "      <th>2</th>\n",
       "      <td>46.9</td>\n",
       "      <td>2010-01-01 02:00:00</td>\n",
       "    </tr>\n",
       "    <tr>\n",
       "      <th>3</th>\n",
       "      <td>46.5</td>\n",
       "      <td>2010-01-01 03:00:00</td>\n",
       "    </tr>\n",
       "    <tr>\n",
       "      <th>4</th>\n",
       "      <td>46.0</td>\n",
       "      <td>2010-01-01 04:00:00</td>\n",
       "    </tr>\n",
       "    <tr>\n",
       "      <th>...</th>\n",
       "      <td>...</td>\n",
       "      <td>...</td>\n",
       "    </tr>\n",
       "    <tr>\n",
       "      <th>8754</th>\n",
       "      <td>50.4</td>\n",
       "      <td>2010-12-31 19:00:00</td>\n",
       "    </tr>\n",
       "    <tr>\n",
       "      <th>8755</th>\n",
       "      <td>49.9</td>\n",
       "      <td>2010-12-31 20:00:00</td>\n",
       "    </tr>\n",
       "    <tr>\n",
       "      <th>8756</th>\n",
       "      <td>49.4</td>\n",
       "      <td>2010-12-31 21:00:00</td>\n",
       "    </tr>\n",
       "    <tr>\n",
       "      <th>8757</th>\n",
       "      <td>48.8</td>\n",
       "      <td>2010-12-31 22:00:00</td>\n",
       "    </tr>\n",
       "    <tr>\n",
       "      <th>8758</th>\n",
       "      <td>48.3</td>\n",
       "      <td>2010-12-31 23:00:00</td>\n",
       "    </tr>\n",
       "  </tbody>\n",
       "</table>\n",
       "<p>8759 rows × 2 columns</p>\n",
       "</div>"
      ],
      "text/plain": [
       "      temp                date\n",
       "0     47.8 2010-01-01 00:00:00\n",
       "1     47.4 2010-01-01 01:00:00\n",
       "2     46.9 2010-01-01 02:00:00\n",
       "3     46.5 2010-01-01 03:00:00\n",
       "4     46.0 2010-01-01 04:00:00\n",
       "...    ...                 ...\n",
       "8754  50.4 2010-12-31 19:00:00\n",
       "8755  49.9 2010-12-31 20:00:00\n",
       "8756  49.4 2010-12-31 21:00:00\n",
       "8757  48.8 2010-12-31 22:00:00\n",
       "8758  48.3 2010-12-31 23:00:00\n",
       "\n",
       "[8759 rows x 2 columns]"
      ]
     },
     "execution_count": 3,
     "metadata": {},
     "output_type": "execute_result"
    }
   ],
   "source": [
    "from vega_datasets import data\n",
    "df = data.sf_temps()\n",
    "df"
   ]
  },
  {
   "cell_type": "markdown",
   "id": "f9c10663",
   "metadata": {},
   "source": [
    "## 1. Resample by the day and take the average temperature. Visualize the average temperature over time."
   ]
  },
  {
   "cell_type": "code",
   "execution_count": 5,
   "id": "30f21a24",
   "metadata": {},
   "outputs": [
    {
     "data": {
      "text/plain": [
       "temp           float64\n",
       "date    datetime64[ns]\n",
       "dtype: object"
      ]
     },
     "execution_count": 5,
     "metadata": {},
     "output_type": "execute_result"
    }
   ],
   "source": [
    "#checking types\n",
    "df.dtypes"
   ]
  },
  {
   "cell_type": "code",
   "execution_count": 6,
   "id": "8bd6afec",
   "metadata": {},
   "outputs": [
    {
     "data": {
      "text/plain": [
       "<AxesSubplot:>"
      ]
     },
     "execution_count": 6,
     "metadata": {},
     "output_type": "execute_result"
    },
    {
     "data": {
      "image/png": "[encoded data removed]",
      "text/plain": [
       "<Figure size 576x432 with 1 Axes>"
      ]
     },
     "metadata": {
      "needs_background": "light"
     },
     "output_type": "display_data"
    }
   ],
   "source": [
    "df.temp.plot()"
   ]
  },
  {
   "cell_type": "code",
   "execution_count": 7,
   "id": "b29f13e9",
   "metadata": {},
   "outputs": [],
   "source": [
    "# Once we have a date-time column on a dataframe, we can use that column as the index on our dataframe.\n",
    "\n",
    "\n",
    "df = df.set_index('date')"
   ]
  },
  {
   "cell_type": "code",
   "execution_count": 8,
   "id": "0eddae53",
   "metadata": {},
   "outputs": [
    {
     "data": {
      "text/html": [
       "<div>\n",
       "<style scoped>\n",
       "    .dataframe tbody tr th:only-of-type {\n",
       "        vertical-align: middle;\n",
       "    }\n",
       "\n",
       "    .dataframe tbody tr th {\n",
       "        vertical-align: top;\n",
       "    }\n",
       "\n",
       "    .dataframe thead th {\n",
       "        text-align: right;\n",
       "    }\n",
       "</style>\n",
       "<table border=\"1\" class=\"dataframe\">\n",
       "  <thead>\n",
       "    <tr style=\"text-align: right;\">\n",
       "      <th></th>\n",
       "      <th>temp</th>\n",
       "    </tr>\n",
       "    <tr>\n",
       "      <th>date</th>\n",
       "      <th></th>\n",
       "    </tr>\n",
       "  </thead>\n",
       "  <tbody>\n",
       "    <tr>\n",
       "      <th>2010-01-01</th>\n",
       "      <td>49.170833</td>\n",
       "    </tr>\n",
       "    <tr>\n",
       "      <th>2010-01-02</th>\n",
       "      <td>49.304167</td>\n",
       "    </tr>\n",
       "    <tr>\n",
       "      <th>2010-01-03</th>\n",
       "      <td>49.391667</td>\n",
       "    </tr>\n",
       "    <tr>\n",
       "      <th>2010-01-04</th>\n",
       "      <td>49.445833</td>\n",
       "    </tr>\n",
       "    <tr>\n",
       "      <th>2010-01-05</th>\n",
       "      <td>49.491667</td>\n",
       "    </tr>\n",
       "    <tr>\n",
       "      <th>...</th>\n",
       "      <td>...</td>\n",
       "    </tr>\n",
       "    <tr>\n",
       "      <th>2010-12-27</th>\n",
       "      <td>48.991667</td>\n",
       "    </tr>\n",
       "    <tr>\n",
       "      <th>2010-12-28</th>\n",
       "      <td>49.000000</td>\n",
       "    </tr>\n",
       "    <tr>\n",
       "      <th>2010-12-29</th>\n",
       "      <td>49.012500</td>\n",
       "    </tr>\n",
       "    <tr>\n",
       "      <th>2010-12-30</th>\n",
       "      <td>49.012500</td>\n",
       "    </tr>\n",
       "    <tr>\n",
       "      <th>2010-12-31</th>\n",
       "      <td>49.116667</td>\n",
       "    </tr>\n",
       "  </tbody>\n",
       "</table>\n",
       "<p>365 rows × 1 columns</p>\n",
       "</div>"
      ],
      "text/plain": [
       "                 temp\n",
       "date                 \n",
       "2010-01-01  49.170833\n",
       "2010-01-02  49.304167\n",
       "2010-01-03  49.391667\n",
       "2010-01-04  49.445833\n",
       "2010-01-05  49.491667\n",
       "...               ...\n",
       "2010-12-27  48.991667\n",
       "2010-12-28  49.000000\n",
       "2010-12-29  49.012500\n",
       "2010-12-30  49.012500\n",
       "2010-12-31  49.116667\n",
       "\n",
       "[365 rows x 1 columns]"
      ]
     },
     "execution_count": 8,
     "metadata": {},
     "output_type": "execute_result"
    }
   ],
   "source": [
    "df.resample('D').mean()"
   ]
  },
  {
   "cell_type": "code",
   "execution_count": 9,
   "id": "49a7a67c",
   "metadata": {},
   "outputs": [
    {
     "data": {
      "image/png": "[encoded data removed]",
      "text/plain": [
       "<Figure size 576x432 with 1 Axes>"
      ]
     },
     "metadata": {
      "needs_background": "light"
     },
     "output_type": "display_data"
    }
   ],
   "source": [
    "df.resample('D').mean().plot(title= \"SF avg temperature over time\");"
   ]
  },
  {
   "cell_type": "markdown",
   "id": "24075541",
   "metadata": {},
   "source": [
    "## 2. Write the code necessary to visualize the minimum temperature over time.\n"
   ]
  },
  {
   "cell_type": "code",
   "execution_count": 10,
   "id": "2f05ea45",
   "metadata": {},
   "outputs": [
    {
     "data": {
      "text/html": [
       "<div>\n",
       "<style scoped>\n",
       "    .dataframe tbody tr th:only-of-type {\n",
       "        vertical-align: middle;\n",
       "    }\n",
       "\n",
       "    .dataframe tbody tr th {\n",
       "        vertical-align: top;\n",
       "    }\n",
       "\n",
       "    .dataframe thead th {\n",
       "        text-align: right;\n",
       "    }\n",
       "</style>\n",
       "<table border=\"1\" class=\"dataframe\">\n",
       "  <thead>\n",
       "    <tr style=\"text-align: right;\">\n",
       "      <th></th>\n",
       "      <th>temp</th>\n",
       "    </tr>\n",
       "    <tr>\n",
       "      <th>date</th>\n",
       "      <th></th>\n",
       "    </tr>\n",
       "  </thead>\n",
       "  <tbody>\n",
       "    <tr>\n",
       "      <th>2010-01-01</th>\n",
       "      <td>45.8</td>\n",
       "    </tr>\n",
       "    <tr>\n",
       "      <th>2010-01-02</th>\n",
       "      <td>46.0</td>\n",
       "    </tr>\n",
       "    <tr>\n",
       "      <th>2010-01-03</th>\n",
       "      <td>46.1</td>\n",
       "    </tr>\n",
       "    <tr>\n",
       "      <th>2010-01-04</th>\n",
       "      <td>46.1</td>\n",
       "    </tr>\n",
       "    <tr>\n",
       "      <th>2010-01-05</th>\n",
       "      <td>46.1</td>\n",
       "    </tr>\n",
       "    <tr>\n",
       "      <th>...</th>\n",
       "      <td>...</td>\n",
       "    </tr>\n",
       "    <tr>\n",
       "      <th>2010-12-27</th>\n",
       "      <td>45.6</td>\n",
       "    </tr>\n",
       "    <tr>\n",
       "      <th>2010-12-28</th>\n",
       "      <td>45.6</td>\n",
       "    </tr>\n",
       "    <tr>\n",
       "      <th>2010-12-29</th>\n",
       "      <td>45.6</td>\n",
       "    </tr>\n",
       "    <tr>\n",
       "      <th>2010-12-30</th>\n",
       "      <td>45.6</td>\n",
       "    </tr>\n",
       "    <tr>\n",
       "      <th>2010-12-31</th>\n",
       "      <td>45.8</td>\n",
       "    </tr>\n",
       "  </tbody>\n",
       "</table>\n",
       "<p>365 rows × 1 columns</p>\n",
       "</div>"
      ],
      "text/plain": [
       "            temp\n",
       "date            \n",
       "2010-01-01  45.8\n",
       "2010-01-02  46.0\n",
       "2010-01-03  46.1\n",
       "2010-01-04  46.1\n",
       "2010-01-05  46.1\n",
       "...          ...\n",
       "2010-12-27  45.6\n",
       "2010-12-28  45.6\n",
       "2010-12-29  45.6\n",
       "2010-12-30  45.6\n",
       "2010-12-31  45.8\n",
       "\n",
       "[365 rows x 1 columns]"
      ]
     },
     "execution_count": 10,
     "metadata": {},
     "output_type": "execute_result"
    }
   ],
   "source": [
    "df.resample('D').min()"
   ]
  },
  {
   "cell_type": "code",
   "execution_count": 11,
   "id": "79e2f595",
   "metadata": {},
   "outputs": [
    {
     "data": {
      "text/plain": [
       "<AxesSubplot:title={'center':'SF min temperature over time'}, xlabel='date'>"
      ]
     },
     "execution_count": 11,
     "metadata": {},
     "output_type": "execute_result"
    },
    {
     "data": {
      "image/png": "[encoded data removed]",
      "text/plain": [
       "<Figure size 576x432 with 1 Axes>"
      ]
     },
     "metadata": {
      "needs_background": "light"
     },
     "output_type": "display_data"
    }
   ],
   "source": [
    "df.resample('D').min().plot(title='SF min temperature over time')"
   ]
  },
  {
   "cell_type": "markdown",
   "id": "3a06e788",
   "metadata": {},
   "source": [
    "## 3. Write the code necessary to visualize the maximum temperature over time.\n"
   ]
  },
  {
   "cell_type": "code",
   "execution_count": 12,
   "id": "31852c19",
   "metadata": {},
   "outputs": [
    {
     "data": {
      "text/html": [
       "<div>\n",
       "<style scoped>\n",
       "    .dataframe tbody tr th:only-of-type {\n",
       "        vertical-align: middle;\n",
       "    }\n",
       "\n",
       "    .dataframe tbody tr th {\n",
       "        vertical-align: top;\n",
       "    }\n",
       "\n",
       "    .dataframe thead th {\n",
       "        text-align: right;\n",
       "    }\n",
       "</style>\n",
       "<table border=\"1\" class=\"dataframe\">\n",
       "  <thead>\n",
       "    <tr style=\"text-align: right;\">\n",
       "      <th></th>\n",
       "      <th>temp</th>\n",
       "    </tr>\n",
       "    <tr>\n",
       "      <th>date</th>\n",
       "      <th></th>\n",
       "    </tr>\n",
       "  </thead>\n",
       "  <tbody>\n",
       "    <tr>\n",
       "      <th>2010-01-01</th>\n",
       "      <td>53.3</td>\n",
       "    </tr>\n",
       "    <tr>\n",
       "      <th>2010-01-02</th>\n",
       "      <td>53.4</td>\n",
       "    </tr>\n",
       "    <tr>\n",
       "      <th>2010-01-03</th>\n",
       "      <td>53.5</td>\n",
       "    </tr>\n",
       "    <tr>\n",
       "      <th>2010-01-04</th>\n",
       "      <td>53.6</td>\n",
       "    </tr>\n",
       "    <tr>\n",
       "      <th>2010-01-05</th>\n",
       "      <td>53.8</td>\n",
       "    </tr>\n",
       "    <tr>\n",
       "      <th>...</th>\n",
       "      <td>...</td>\n",
       "    </tr>\n",
       "    <tr>\n",
       "      <th>2010-12-27</th>\n",
       "      <td>53.2</td>\n",
       "    </tr>\n",
       "    <tr>\n",
       "      <th>2010-12-28</th>\n",
       "      <td>53.2</td>\n",
       "    </tr>\n",
       "    <tr>\n",
       "      <th>2010-12-29</th>\n",
       "      <td>53.2</td>\n",
       "    </tr>\n",
       "    <tr>\n",
       "      <th>2010-12-30</th>\n",
       "      <td>53.2</td>\n",
       "    </tr>\n",
       "    <tr>\n",
       "      <th>2010-12-31</th>\n",
       "      <td>53.2</td>\n",
       "    </tr>\n",
       "  </tbody>\n",
       "</table>\n",
       "<p>365 rows × 1 columns</p>\n",
       "</div>"
      ],
      "text/plain": [
       "            temp\n",
       "date            \n",
       "2010-01-01  53.3\n",
       "2010-01-02  53.4\n",
       "2010-01-03  53.5\n",
       "2010-01-04  53.6\n",
       "2010-01-05  53.8\n",
       "...          ...\n",
       "2010-12-27  53.2\n",
       "2010-12-28  53.2\n",
       "2010-12-29  53.2\n",
       "2010-12-30  53.2\n",
       "2010-12-31  53.2\n",
       "\n",
       "[365 rows x 1 columns]"
      ]
     },
     "execution_count": 12,
     "metadata": {},
     "output_type": "execute_result"
    }
   ],
   "source": [
    "df.resample('D').max()"
   ]
  },
  {
   "cell_type": "code",
   "execution_count": 13,
   "id": "2d05d58b",
   "metadata": {},
   "outputs": [
    {
     "data": {
      "image/png": "[encoded data removed]",
      "text/plain": [
       "<Figure size 576x432 with 1 Axes>"
      ]
     },
     "metadata": {
      "needs_background": "light"
     },
     "output_type": "display_data"
    }
   ],
   "source": [
    "df.resample('D').max().plot(title=\"SF max temp over time\");"
   ]
  },
  {
   "cell_type": "markdown",
   "id": "b951f126",
   "metadata": {},
   "source": [
    "## 4. Which month is the coldest, on average?\n"
   ]
  },
  {
   "cell_type": "code",
   "execution_count": 14,
   "id": "afb1bab8",
   "metadata": {},
   "outputs": [
    {
     "data": {
      "text/html": [
       "<div>\n",
       "<style scoped>\n",
       "    .dataframe tbody tr th:only-of-type {\n",
       "        vertical-align: middle;\n",
       "    }\n",
       "\n",
       "    .dataframe tbody tr th {\n",
       "        vertical-align: top;\n",
       "    }\n",
       "\n",
       "    .dataframe thead th {\n",
       "        text-align: right;\n",
       "    }\n",
       "</style>\n",
       "<table border=\"1\" class=\"dataframe\">\n",
       "  <thead>\n",
       "    <tr style=\"text-align: right;\">\n",
       "      <th></th>\n",
       "      <th>temp</th>\n",
       "    </tr>\n",
       "    <tr>\n",
       "      <th>date</th>\n",
       "      <th></th>\n",
       "    </tr>\n",
       "  </thead>\n",
       "  <tbody>\n",
       "    <tr>\n",
       "      <th>2010-01-31</th>\n",
       "      <td>49.984140</td>\n",
       "    </tr>\n",
       "    <tr>\n",
       "      <th>2010-02-28</th>\n",
       "      <td>52.243899</td>\n",
       "    </tr>\n",
       "    <tr>\n",
       "      <th>2010-03-31</th>\n",
       "      <td>53.956948</td>\n",
       "    </tr>\n",
       "    <tr>\n",
       "      <th>2010-04-30</th>\n",
       "      <td>55.633056</td>\n",
       "    </tr>\n",
       "    <tr>\n",
       "      <th>2010-05-31</th>\n",
       "      <td>57.970968</td>\n",
       "    </tr>\n",
       "    <tr>\n",
       "      <th>2010-06-30</th>\n",
       "      <td>60.444722</td>\n",
       "    </tr>\n",
       "    <tr>\n",
       "      <th>2010-07-31</th>\n",
       "      <td>61.765457</td>\n",
       "    </tr>\n",
       "    <tr>\n",
       "      <th>2010-08-31</th>\n",
       "      <td>62.405376</td>\n",
       "    </tr>\n",
       "    <tr>\n",
       "      <th>2010-09-30</th>\n",
       "      <td>62.487083</td>\n",
       "    </tr>\n",
       "    <tr>\n",
       "      <th>2010-10-31</th>\n",
       "      <td>60.253091</td>\n",
       "    </tr>\n",
       "    <tr>\n",
       "      <th>2010-11-30</th>\n",
       "      <td>55.185139</td>\n",
       "    </tr>\n",
       "    <tr>\n",
       "      <th>2010-12-31</th>\n",
       "      <td>50.498253</td>\n",
       "    </tr>\n",
       "  </tbody>\n",
       "</table>\n",
       "</div>"
      ],
      "text/plain": [
       "                 temp\n",
       "date                 \n",
       "2010-01-31  49.984140\n",
       "2010-02-28  52.243899\n",
       "2010-03-31  53.956948\n",
       "2010-04-30  55.633056\n",
       "2010-05-31  57.970968\n",
       "2010-06-30  60.444722\n",
       "2010-07-31  61.765457\n",
       "2010-08-31  62.405376\n",
       "2010-09-30  62.487083\n",
       "2010-10-31  60.253091\n",
       "2010-11-30  55.185139\n",
       "2010-12-31  50.498253"
      ]
     },
     "execution_count": 14,
     "metadata": {},
     "output_type": "execute_result"
    }
   ],
   "source": [
    "# sampling mean days then sample by months mean - date shows last day of month\n",
    "\n",
    "df.resample('D').mean().resample('M').mean()"
   ]
  },
  {
   "cell_type": "code",
   "execution_count": 16,
   "id": "84b3a60a",
   "metadata": {},
   "outputs": [
    {
     "data": {
      "text/html": [
       "<div>\n",
       "<style scoped>\n",
       "    .dataframe tbody tr th:only-of-type {\n",
       "        vertical-align: middle;\n",
       "    }\n",
       "\n",
       "    .dataframe tbody tr th {\n",
       "        vertical-align: top;\n",
       "    }\n",
       "\n",
       "    .dataframe thead th {\n",
       "        text-align: right;\n",
       "    }\n",
       "</style>\n",
       "<table border=\"1\" class=\"dataframe\">\n",
       "  <thead>\n",
       "    <tr style=\"text-align: right;\">\n",
       "      <th></th>\n",
       "      <th>temp</th>\n",
       "    </tr>\n",
       "    <tr>\n",
       "      <th>date</th>\n",
       "      <th></th>\n",
       "    </tr>\n",
       "  </thead>\n",
       "  <tbody>\n",
       "    <tr>\n",
       "      <th>2010-01-31</th>\n",
       "      <td>49.98414</td>\n",
       "    </tr>\n",
       "  </tbody>\n",
       "</table>\n",
       "</div>"
      ],
      "text/plain": [
       "                temp\n",
       "date                \n",
       "2010-01-31  49.98414"
      ]
     },
     "execution_count": 16,
     "metadata": {},
     "output_type": "execute_result"
    }
   ],
   "source": [
    "# list them all then head(1) to pull top\n",
    "df.resample('D').mean().resample('M').mean().sort_values('temp').head(1)"
   ]
  },
  {
   "cell_type": "code",
   "execution_count": 17,
   "id": "673acf01",
   "metadata": {},
   "outputs": [
    {
     "data": {
      "text/plain": [
       "date\n",
       "2010-01-31    49.984140\n",
       "2010-12-31    50.498253\n",
       "2010-02-28    52.243899\n",
       "2010-03-31    53.956528\n",
       "2010-11-30    55.185139\n",
       "2010-04-30    55.633056\n",
       "2010-05-31    57.970968\n",
       "2010-10-31    60.253091\n",
       "2010-06-30    60.444722\n",
       "2010-07-31    61.765457\n",
       "2010-08-31    62.405376\n",
       "2010-09-30    62.487083\n",
       "Name: temp, dtype: float64"
      ]
     },
     "execution_count": 17,
     "metadata": {},
     "output_type": "execute_result"
    }
   ],
   "source": [
    "#R's\n",
    "df.resample('M').mean().temp.sort_values()"
   ]
  },
  {
   "cell_type": "markdown",
   "id": "c043768b",
   "metadata": {},
   "source": [
    "## 5. Which month has the highest average temperature?\n"
   ]
  },
  {
   "cell_type": "code",
   "execution_count": 18,
   "id": "60dc6c2c",
   "metadata": {},
   "outputs": [
    {
     "data": {
      "text/html": [
       "<div>\n",
       "<style scoped>\n",
       "    .dataframe tbody tr th:only-of-type {\n",
       "        vertical-align: middle;\n",
       "    }\n",
       "\n",
       "    .dataframe tbody tr th {\n",
       "        vertical-align: top;\n",
       "    }\n",
       "\n",
       "    .dataframe thead th {\n",
       "        text-align: right;\n",
       "    }\n",
       "</style>\n",
       "<table border=\"1\" class=\"dataframe\">\n",
       "  <thead>\n",
       "    <tr style=\"text-align: right;\">\n",
       "      <th></th>\n",
       "      <th>temp</th>\n",
       "    </tr>\n",
       "    <tr>\n",
       "      <th>date</th>\n",
       "      <th></th>\n",
       "    </tr>\n",
       "  </thead>\n",
       "  <tbody>\n",
       "    <tr>\n",
       "      <th>2010-09-30</th>\n",
       "      <td>62.487083</td>\n",
       "    </tr>\n",
       "  </tbody>\n",
       "</table>\n",
       "</div>"
      ],
      "text/plain": [
       "                 temp\n",
       "date                 \n",
       "2010-09-30  62.487083"
      ]
     },
     "execution_count": 18,
     "metadata": {},
     "output_type": "execute_result"
    }
   ],
   "source": [
    "#can do an idxmax\n",
    "# df.temp.resample('M').mean().idxmax().month\n",
    "\n",
    "df.resample('D').mean().resample('M').mean().sort_values('temp').tail(1)"
   ]
  },
  {
   "cell_type": "code",
   "execution_count": 20,
   "id": "771ebe28",
   "metadata": {},
   "outputs": [
    {
     "data": {
      "text/plain": [
       "date\n",
       "2010-01-31    49.984140\n",
       "2010-02-28    52.243899\n",
       "2010-03-31    53.956528\n",
       "2010-04-30    55.633056\n",
       "2010-05-31    57.970968\n",
       "2010-06-30    60.444722\n",
       "2010-07-31    61.765457\n",
       "2010-08-31    62.405376\n",
       "2010-09-30    62.487083\n",
       "2010-10-31    60.253091\n",
       "2010-11-30    55.185139\n",
       "2010-12-31    50.498253\n",
       "Freq: M, Name: temp, dtype: float64"
      ]
     },
     "execution_count": 20,
     "metadata": {},
     "output_type": "execute_result"
    }
   ],
   "source": [
    "#R's\n",
    "df.temp.resample('M').mean()\n"
   ]
  },
  {
   "cell_type": "markdown",
   "id": "2b67e01f",
   "metadata": {},
   "source": [
    "## 6. Resample by the day and calculate the min and max temp for the day (Hint: .agg(['min', 'max'])). Use this resampled dataframe to calculate the change in temperature for the day. Which month has the highest daily temperature variability?\n"
   ]
  },
  {
   "cell_type": "code",
   "execution_count": 23,
   "id": "f4096590",
   "metadata": {},
   "outputs": [
    {
     "data": {
      "text/html": [
       "<div>\n",
       "<style scoped>\n",
       "    .dataframe tbody tr th:only-of-type {\n",
       "        vertical-align: middle;\n",
       "    }\n",
       "\n",
       "    .dataframe tbody tr th {\n",
       "        vertical-align: top;\n",
       "    }\n",
       "\n",
       "    .dataframe thead tr th {\n",
       "        text-align: left;\n",
       "    }\n",
       "\n",
       "    .dataframe thead tr:last-of-type th {\n",
       "        text-align: right;\n",
       "    }\n",
       "</style>\n",
       "<table border=\"1\" class=\"dataframe\">\n",
       "  <thead>\n",
       "    <tr>\n",
       "      <th></th>\n",
       "      <th colspan=\"2\" halign=\"left\">temp</th>\n",
       "    </tr>\n",
       "    <tr>\n",
       "      <th></th>\n",
       "      <th>min</th>\n",
       "      <th>max</th>\n",
       "    </tr>\n",
       "    <tr>\n",
       "      <th>date</th>\n",
       "      <th></th>\n",
       "      <th></th>\n",
       "    </tr>\n",
       "  </thead>\n",
       "  <tbody>\n",
       "    <tr>\n",
       "      <th>2010-01-01</th>\n",
       "      <td>45.8</td>\n",
       "      <td>53.3</td>\n",
       "    </tr>\n",
       "    <tr>\n",
       "      <th>2010-01-02</th>\n",
       "      <td>46.0</td>\n",
       "      <td>53.4</td>\n",
       "    </tr>\n",
       "    <tr>\n",
       "      <th>2010-01-03</th>\n",
       "      <td>46.1</td>\n",
       "      <td>53.5</td>\n",
       "    </tr>\n",
       "    <tr>\n",
       "      <th>2010-01-04</th>\n",
       "      <td>46.1</td>\n",
       "      <td>53.6</td>\n",
       "    </tr>\n",
       "    <tr>\n",
       "      <th>2010-01-05</th>\n",
       "      <td>46.1</td>\n",
       "      <td>53.8</td>\n",
       "    </tr>\n",
       "    <tr>\n",
       "      <th>...</th>\n",
       "      <td>...</td>\n",
       "      <td>...</td>\n",
       "    </tr>\n",
       "    <tr>\n",
       "      <th>2010-12-27</th>\n",
       "      <td>45.6</td>\n",
       "      <td>53.2</td>\n",
       "    </tr>\n",
       "    <tr>\n",
       "      <th>2010-12-28</th>\n",
       "      <td>45.6</td>\n",
       "      <td>53.2</td>\n",
       "    </tr>\n",
       "    <tr>\n",
       "      <th>2010-12-29</th>\n",
       "      <td>45.6</td>\n",
       "      <td>53.2</td>\n",
       "    </tr>\n",
       "    <tr>\n",
       "      <th>2010-12-30</th>\n",
       "      <td>45.6</td>\n",
       "      <td>53.2</td>\n",
       "    </tr>\n",
       "    <tr>\n",
       "      <th>2010-12-31</th>\n",
       "      <td>45.8</td>\n",
       "      <td>53.2</td>\n",
       "    </tr>\n",
       "  </tbody>\n",
       "</table>\n",
       "<p>365 rows × 2 columns</p>\n",
       "</div>"
      ],
      "text/plain": [
       "            temp      \n",
       "             min   max\n",
       "date                  \n",
       "2010-01-01  45.8  53.3\n",
       "2010-01-02  46.0  53.4\n",
       "2010-01-03  46.1  53.5\n",
       "2010-01-04  46.1  53.6\n",
       "2010-01-05  46.1  53.8\n",
       "...          ...   ...\n",
       "2010-12-27  45.6  53.2\n",
       "2010-12-28  45.6  53.2\n",
       "2010-12-29  45.6  53.2\n",
       "2010-12-30  45.6  53.2\n",
       "2010-12-31  45.8  53.2\n",
       "\n",
       "[365 rows x 2 columns]"
      ]
     },
     "execution_count": 23,
     "metadata": {},
     "output_type": "execute_result"
    }
   ],
   "source": [
    "# have the max and min - create new column for spread\n",
    "df.resample('D').agg(['min','max'])"
   ]
  },
  {
   "cell_type": "code",
   "execution_count": 24,
   "id": "0c7e12aa",
   "metadata": {
    "scrolled": true
   },
   "outputs": [
    {
     "data": {
      "text/html": [
       "<div>\n",
       "<style scoped>\n",
       "    .dataframe tbody tr th:only-of-type {\n",
       "        vertical-align: middle;\n",
       "    }\n",
       "\n",
       "    .dataframe tbody tr th {\n",
       "        vertical-align: top;\n",
       "    }\n",
       "\n",
       "    .dataframe thead th {\n",
       "        text-align: right;\n",
       "    }\n",
       "</style>\n",
       "<table border=\"1\" class=\"dataframe\">\n",
       "  <thead>\n",
       "    <tr style=\"text-align: right;\">\n",
       "      <th></th>\n",
       "      <th>min</th>\n",
       "      <th>max</th>\n",
       "      <th>temp_spread</th>\n",
       "    </tr>\n",
       "    <tr>\n",
       "      <th>date</th>\n",
       "      <th></th>\n",
       "      <th></th>\n",
       "      <th></th>\n",
       "    </tr>\n",
       "  </thead>\n",
       "  <tbody>\n",
       "    <tr>\n",
       "      <th>2010-01-01</th>\n",
       "      <td>45.8</td>\n",
       "      <td>53.3</td>\n",
       "      <td>7.5</td>\n",
       "    </tr>\n",
       "    <tr>\n",
       "      <th>2010-01-02</th>\n",
       "      <td>46.0</td>\n",
       "      <td>53.4</td>\n",
       "      <td>7.4</td>\n",
       "    </tr>\n",
       "    <tr>\n",
       "      <th>2010-01-03</th>\n",
       "      <td>46.1</td>\n",
       "      <td>53.5</td>\n",
       "      <td>7.4</td>\n",
       "    </tr>\n",
       "    <tr>\n",
       "      <th>2010-01-04</th>\n",
       "      <td>46.1</td>\n",
       "      <td>53.6</td>\n",
       "      <td>7.5</td>\n",
       "    </tr>\n",
       "    <tr>\n",
       "      <th>2010-01-05</th>\n",
       "      <td>46.1</td>\n",
       "      <td>53.8</td>\n",
       "      <td>7.7</td>\n",
       "    </tr>\n",
       "    <tr>\n",
       "      <th>...</th>\n",
       "      <td>...</td>\n",
       "      <td>...</td>\n",
       "      <td>...</td>\n",
       "    </tr>\n",
       "    <tr>\n",
       "      <th>2010-12-27</th>\n",
       "      <td>45.6</td>\n",
       "      <td>53.2</td>\n",
       "      <td>7.6</td>\n",
       "    </tr>\n",
       "    <tr>\n",
       "      <th>2010-12-28</th>\n",
       "      <td>45.6</td>\n",
       "      <td>53.2</td>\n",
       "      <td>7.6</td>\n",
       "    </tr>\n",
       "    <tr>\n",
       "      <th>2010-12-29</th>\n",
       "      <td>45.6</td>\n",
       "      <td>53.2</td>\n",
       "      <td>7.6</td>\n",
       "    </tr>\n",
       "    <tr>\n",
       "      <th>2010-12-30</th>\n",
       "      <td>45.6</td>\n",
       "      <td>53.2</td>\n",
       "      <td>7.6</td>\n",
       "    </tr>\n",
       "    <tr>\n",
       "      <th>2010-12-31</th>\n",
       "      <td>45.8</td>\n",
       "      <td>53.2</td>\n",
       "      <td>7.4</td>\n",
       "    </tr>\n",
       "  </tbody>\n",
       "</table>\n",
       "<p>365 rows × 3 columns</p>\n",
       "</div>"
      ],
      "text/plain": [
       "             min   max  temp_spread\n",
       "date                               \n",
       "2010-01-01  45.8  53.3          7.5\n",
       "2010-01-02  46.0  53.4          7.4\n",
       "2010-01-03  46.1  53.5          7.4\n",
       "2010-01-04  46.1  53.6          7.5\n",
       "2010-01-05  46.1  53.8          7.7\n",
       "...          ...   ...          ...\n",
       "2010-12-27  45.6  53.2          7.6\n",
       "2010-12-28  45.6  53.2          7.6\n",
       "2010-12-29  45.6  53.2          7.6\n",
       "2010-12-30  45.6  53.2          7.6\n",
       "2010-12-31  45.8  53.2          7.4\n",
       "\n",
       "[365 rows x 3 columns]"
      ]
     },
     "execution_count": 24,
     "metadata": {},
     "output_type": "execute_result"
    }
   ],
   "source": [
    "# remeber df.'temp'.resample\n",
    "\n",
    "daily = df.temp.resample('D').agg(['min','max'])\n",
    "\n",
    "daily['temp_spread'] = (daily['max'] - daily['min'])\n",
    "daily"
   ]
  },
  {
   "cell_type": "code",
   "execution_count": 26,
   "id": "b7517e0f",
   "metadata": {},
   "outputs": [
    {
     "data": {
      "text/html": [
       "<div>\n",
       "<style scoped>\n",
       "    .dataframe tbody tr th:only-of-type {\n",
       "        vertical-align: middle;\n",
       "    }\n",
       "\n",
       "    .dataframe tbody tr th {\n",
       "        vertical-align: top;\n",
       "    }\n",
       "\n",
       "    .dataframe thead th {\n",
       "        text-align: right;\n",
       "    }\n",
       "</style>\n",
       "<table border=\"1\" class=\"dataframe\">\n",
       "  <thead>\n",
       "    <tr style=\"text-align: right;\">\n",
       "      <th></th>\n",
       "      <th>min</th>\n",
       "      <th>max</th>\n",
       "      <th>temp_spread</th>\n",
       "    </tr>\n",
       "    <tr>\n",
       "      <th>date</th>\n",
       "      <th></th>\n",
       "      <th></th>\n",
       "      <th></th>\n",
       "    </tr>\n",
       "  </thead>\n",
       "  <tbody>\n",
       "    <tr>\n",
       "      <th>2010-09-30</th>\n",
       "      <td>56.903333</td>\n",
       "      <td>71.306667</td>\n",
       "      <td>14.403333</td>\n",
       "    </tr>\n",
       "  </tbody>\n",
       "</table>\n",
       "</div>"
      ],
      "text/plain": [
       "                  min        max  temp_spread\n",
       "date                                         \n",
       "2010-09-30  56.903333  71.306667    14.403333"
      ]
     },
     "execution_count": 26,
     "metadata": {},
     "output_type": "execute_result"
    }
   ],
   "source": [
    "daily.resample('M').mean().sort_values('temp_spread').tail(1)\n",
    "\n",
    "#shows us that September had the greatest daily temperature spread compared to the other months"
   ]
  },
  {
   "cell_type": "code",
   "execution_count": 27,
   "id": "faf99b4d",
   "metadata": {},
   "outputs": [
    {
     "data": {
      "text/plain": [
       "date\n",
       "2010-12-31     8.9\n",
       "2010-01-31     9.3\n",
       "2010-02-28     9.9\n",
       "2010-11-30    11.8\n",
       "2010-03-31    12.0\n",
       "2010-04-30    13.0\n",
       "2010-05-31    13.1\n",
       "2010-10-31    14.4\n",
       "2010-06-30    14.8\n",
       "2010-07-31    14.8\n",
       "2010-09-30    14.9\n",
       "2010-08-31    15.0\n",
       "Name: temp_spread, dtype: float64"
      ]
     },
     "execution_count": 27,
     "metadata": {},
     "output_type": "execute_result"
    }
   ],
   "source": [
    "daily.resample('M').max().temp_spread.sort_values()"
   ]
  },
  {
   "cell_type": "markdown",
   "id": "ee6950c3",
   "metadata": {},
   "source": [
    "## 7. Bonus: Visualize the daily min, average, and max temperature over time on a single line plot, i.e. the min, average, and maximum temperature should be 3 seperate lines."
   ]
  },
  {
   "cell_type": "code",
   "execution_count": 29,
   "id": "82deef9d",
   "metadata": {},
   "outputs": [
    {
     "data": {
      "image/png": "[encoded data removed]",
      "text/plain": [
       "<Figure size 576x432 with 1 Axes>"
      ]
     },
     "metadata": {
      "needs_background": "light"
     },
     "output_type": "display_data"
    }
   ],
   "source": [
    "#Ravinder's\n",
    "\n",
    "df.temp.resample('D').agg(['min','mean','max']).plot();"
   ]
  },
  {
   "cell_type": "markdown",
   "id": "856e0a4f",
   "metadata": {},
   "source": [
    "# New Dataset"
   ]
  },
  {
   "cell_type": "code",
   "execution_count": 30,
   "id": "c6e26b9e",
   "metadata": {},
   "outputs": [
    {
     "data": {
      "text/html": [
       "<div>\n",
       "<style scoped>\n",
       "    .dataframe tbody tr th:only-of-type {\n",
       "        vertical-align: middle;\n",
       "    }\n",
       "\n",
       "    .dataframe tbody tr th {\n",
       "        vertical-align: top;\n",
       "    }\n",
       "\n",
       "    .dataframe thead th {\n",
       "        text-align: right;\n",
       "    }\n",
       "</style>\n",
       "<table border=\"1\" class=\"dataframe\">\n",
       "  <thead>\n",
       "    <tr style=\"text-align: right;\">\n",
       "      <th></th>\n",
       "      <th>date</th>\n",
       "      <th>precipitation</th>\n",
       "      <th>temp_max</th>\n",
       "      <th>temp_min</th>\n",
       "      <th>wind</th>\n",
       "      <th>weather</th>\n",
       "    </tr>\n",
       "  </thead>\n",
       "  <tbody>\n",
       "    <tr>\n",
       "      <th>0</th>\n",
       "      <td>2012-01-01</td>\n",
       "      <td>0.0</td>\n",
       "      <td>12.8</td>\n",
       "      <td>5.0</td>\n",
       "      <td>4.7</td>\n",
       "      <td>drizzle</td>\n",
       "    </tr>\n",
       "    <tr>\n",
       "      <th>1</th>\n",
       "      <td>2012-01-02</td>\n",
       "      <td>10.9</td>\n",
       "      <td>10.6</td>\n",
       "      <td>2.8</td>\n",
       "      <td>4.5</td>\n",
       "      <td>rain</td>\n",
       "    </tr>\n",
       "    <tr>\n",
       "      <th>2</th>\n",
       "      <td>2012-01-03</td>\n",
       "      <td>0.8</td>\n",
       "      <td>11.7</td>\n",
       "      <td>7.2</td>\n",
       "      <td>2.3</td>\n",
       "      <td>rain</td>\n",
       "    </tr>\n",
       "    <tr>\n",
       "      <th>3</th>\n",
       "      <td>2012-01-04</td>\n",
       "      <td>20.3</td>\n",
       "      <td>12.2</td>\n",
       "      <td>5.6</td>\n",
       "      <td>4.7</td>\n",
       "      <td>rain</td>\n",
       "    </tr>\n",
       "    <tr>\n",
       "      <th>4</th>\n",
       "      <td>2012-01-05</td>\n",
       "      <td>1.3</td>\n",
       "      <td>8.9</td>\n",
       "      <td>2.8</td>\n",
       "      <td>6.1</td>\n",
       "      <td>rain</td>\n",
       "    </tr>\n",
       "    <tr>\n",
       "      <th>...</th>\n",
       "      <td>...</td>\n",
       "      <td>...</td>\n",
       "      <td>...</td>\n",
       "      <td>...</td>\n",
       "      <td>...</td>\n",
       "      <td>...</td>\n",
       "    </tr>\n",
       "    <tr>\n",
       "      <th>1456</th>\n",
       "      <td>2015-12-27</td>\n",
       "      <td>8.6</td>\n",
       "      <td>4.4</td>\n",
       "      <td>1.7</td>\n",
       "      <td>2.9</td>\n",
       "      <td>fog</td>\n",
       "    </tr>\n",
       "    <tr>\n",
       "      <th>1457</th>\n",
       "      <td>2015-12-28</td>\n",
       "      <td>1.5</td>\n",
       "      <td>5.0</td>\n",
       "      <td>1.7</td>\n",
       "      <td>1.3</td>\n",
       "      <td>fog</td>\n",
       "    </tr>\n",
       "    <tr>\n",
       "      <th>1458</th>\n",
       "      <td>2015-12-29</td>\n",
       "      <td>0.0</td>\n",
       "      <td>7.2</td>\n",
       "      <td>0.6</td>\n",
       "      <td>2.6</td>\n",
       "      <td>fog</td>\n",
       "    </tr>\n",
       "    <tr>\n",
       "      <th>1459</th>\n",
       "      <td>2015-12-30</td>\n",
       "      <td>0.0</td>\n",
       "      <td>5.6</td>\n",
       "      <td>-1.0</td>\n",
       "      <td>3.4</td>\n",
       "      <td>sun</td>\n",
       "    </tr>\n",
       "    <tr>\n",
       "      <th>1460</th>\n",
       "      <td>2015-12-31</td>\n",
       "      <td>0.0</td>\n",
       "      <td>5.6</td>\n",
       "      <td>-2.1</td>\n",
       "      <td>3.5</td>\n",
       "      <td>sun</td>\n",
       "    </tr>\n",
       "  </tbody>\n",
       "</table>\n",
       "<p>1461 rows × 6 columns</p>\n",
       "</div>"
      ],
      "text/plain": [
       "           date  precipitation  temp_max  temp_min  wind  weather\n",
       "0    2012-01-01            0.0      12.8       5.0   4.7  drizzle\n",
       "1    2012-01-02           10.9      10.6       2.8   4.5     rain\n",
       "2    2012-01-03            0.8      11.7       7.2   2.3     rain\n",
       "3    2012-01-04           20.3      12.2       5.6   4.7     rain\n",
       "4    2012-01-05            1.3       8.9       2.8   6.1     rain\n",
       "...         ...            ...       ...       ...   ...      ...\n",
       "1456 2015-12-27            8.6       4.4       1.7   2.9      fog\n",
       "1457 2015-12-28            1.5       5.0       1.7   1.3      fog\n",
       "1458 2015-12-29            0.0       7.2       0.6   2.6      fog\n",
       "1459 2015-12-30            0.0       5.6      -1.0   3.4      sun\n",
       "1460 2015-12-31            0.0       5.6      -2.1   3.5      sun\n",
       "\n",
       "[1461 rows x 6 columns]"
      ]
     },
     "execution_count": 30,
     "metadata": {},
     "output_type": "execute_result"
    }
   ],
   "source": [
    "from vega_datasets import data\n",
    "df = data.seattle_weather()\n",
    "df"
   ]
  },
  {
   "cell_type": "code",
   "execution_count": null,
   "id": "607b2b79",
   "metadata": {},
   "outputs": [],
   "source": [
    "# needed to make columns\n",
    "#The .dt accessor can be used to access various properties of a date. Some of the more common ones are listed here, and you can reference the pandas documentation for a full list."
   ]
  },
  {
   "cell_type": "code",
   "execution_count": 31,
   "id": "0548017b",
   "metadata": {},
   "outputs": [],
   "source": [
    "df['year'] = df.date.dt.year\n",
    "df['month'] = df.date.dt.month"
   ]
  },
  {
   "cell_type": "code",
   "execution_count": 32,
   "id": "d2c1a1aa",
   "metadata": {},
   "outputs": [
    {
     "name": "stdout",
     "output_type": "stream",
     "text": [
      "<class 'pandas.core.frame.DataFrame'>\n",
      "RangeIndex: 1461 entries, 0 to 1460\n",
      "Data columns (total 8 columns):\n",
      " #   Column         Non-Null Count  Dtype         \n",
      "---  ------         --------------  -----         \n",
      " 0   date           1461 non-null   datetime64[ns]\n",
      " 1   precipitation  1461 non-null   float64       \n",
      " 2   temp_max       1461 non-null   float64       \n",
      " 3   temp_min       1461 non-null   float64       \n",
      " 4   wind           1461 non-null   float64       \n",
      " 5   weather        1461 non-null   object        \n",
      " 6   year           1461 non-null   int64         \n",
      " 7   month          1461 non-null   int64         \n",
      "dtypes: datetime64[ns](1), float64(4), int64(2), object(1)\n",
      "memory usage: 91.4+ KB\n"
     ]
    }
   ],
   "source": [
    "df.info()"
   ]
  },
  {
   "cell_type": "code",
   "execution_count": 33,
   "id": "9c0e7f4e",
   "metadata": {},
   "outputs": [
    {
     "data": {
      "text/plain": [
       "date             0\n",
       "precipitation    0\n",
       "temp_max         0\n",
       "temp_min         0\n",
       "wind             0\n",
       "weather          0\n",
       "year             0\n",
       "month            0\n",
       "dtype: int64"
      ]
     },
     "execution_count": 33,
     "metadata": {},
     "output_type": "execute_result"
    }
   ],
   "source": [
    "# all good\n",
    "df.isnull().sum()"
   ]
  },
  {
   "cell_type": "code",
   "execution_count": null,
   "id": "e9611396",
   "metadata": {},
   "outputs": [],
   "source": [
    "#setting this before creating the month & year column messed me up\n",
    "#df = df.set_index('date')"
   ]
  },
  {
   "cell_type": "code",
   "execution_count": 34,
   "id": "4471a77a",
   "metadata": {},
   "outputs": [
    {
     "data": {
      "text/html": [
       "<div>\n",
       "<style scoped>\n",
       "    .dataframe tbody tr th:only-of-type {\n",
       "        vertical-align: middle;\n",
       "    }\n",
       "\n",
       "    .dataframe tbody tr th {\n",
       "        vertical-align: top;\n",
       "    }\n",
       "\n",
       "    .dataframe thead th {\n",
       "        text-align: right;\n",
       "    }\n",
       "</style>\n",
       "<table border=\"1\" class=\"dataframe\">\n",
       "  <thead>\n",
       "    <tr style=\"text-align: right;\">\n",
       "      <th></th>\n",
       "      <th></th>\n",
       "      <th>precipitation</th>\n",
       "      <th>temp_max</th>\n",
       "      <th>temp_min</th>\n",
       "      <th>wind</th>\n",
       "      <th>year</th>\n",
       "      <th>month</th>\n",
       "    </tr>\n",
       "    <tr>\n",
       "      <th>weather</th>\n",
       "      <th>date</th>\n",
       "      <th></th>\n",
       "      <th></th>\n",
       "      <th></th>\n",
       "      <th></th>\n",
       "      <th></th>\n",
       "      <th></th>\n",
       "    </tr>\n",
       "  </thead>\n",
       "  <tbody>\n",
       "    <tr>\n",
       "      <th rowspan=\"4\" valign=\"top\">drizzle</th>\n",
       "      <th>2012-12-31</th>\n",
       "      <td>0.000000</td>\n",
       "      <td>17.374194</td>\n",
       "      <td>8.667742</td>\n",
       "      <td>2.512903</td>\n",
       "      <td>2012.0</td>\n",
       "      <td>7.387097</td>\n",
       "    </tr>\n",
       "    <tr>\n",
       "      <th>2013-12-31</th>\n",
       "      <td>0.062500</td>\n",
       "      <td>7.912500</td>\n",
       "      <td>1.206250</td>\n",
       "      <td>2.200000</td>\n",
       "      <td>2013.0</td>\n",
       "      <td>2.437500</td>\n",
       "    </tr>\n",
       "    <tr>\n",
       "      <th>2014-12-31</th>\n",
       "      <td>NaN</td>\n",
       "      <td>NaN</td>\n",
       "      <td>NaN</td>\n",
       "      <td>NaN</td>\n",
       "      <td>NaN</td>\n",
       "      <td>NaN</td>\n",
       "    </tr>\n",
       "    <tr>\n",
       "      <th>2015-12-31</th>\n",
       "      <td>0.000000</td>\n",
       "      <td>27.700000</td>\n",
       "      <td>14.042857</td>\n",
       "      <td>2.514286</td>\n",
       "      <td>2015.0</td>\n",
       "      <td>7.714286</td>\n",
       "    </tr>\n",
       "    <tr>\n",
       "      <th rowspan=\"4\" valign=\"top\">fog</th>\n",
       "      <th>2012-12-31</th>\n",
       "      <td>0.000000</td>\n",
       "      <td>21.100000</td>\n",
       "      <td>9.340000</td>\n",
       "      <td>2.420000</td>\n",
       "      <td>2012.0</td>\n",
       "      <td>9.000000</td>\n",
       "    </tr>\n",
       "    <tr>\n",
       "      <th>2013-12-31</th>\n",
       "      <td>5.653659</td>\n",
       "      <td>15.825610</td>\n",
       "      <td>9.265854</td>\n",
       "      <td>3.357317</td>\n",
       "      <td>2013.0</td>\n",
       "      <td>8.060976</td>\n",
       "    </tr>\n",
       "    <tr>\n",
       "      <th>2014-12-31</th>\n",
       "      <td>7.610596</td>\n",
       "      <td>14.520530</td>\n",
       "      <td>8.147020</td>\n",
       "      <td>3.718543</td>\n",
       "      <td>2014.0</td>\n",
       "      <td>6.821192</td>\n",
       "    </tr>\n",
       "    <tr>\n",
       "      <th>2015-12-31</th>\n",
       "      <td>6.028324</td>\n",
       "      <td>13.592486</td>\n",
       "      <td>7.337572</td>\n",
       "      <td>3.283815</td>\n",
       "      <td>2015.0</td>\n",
       "      <td>6.670520</td>\n",
       "    </tr>\n",
       "    <tr>\n",
       "      <th rowspan=\"4\" valign=\"top\">rain</th>\n",
       "      <th>2012-12-31</th>\n",
       "      <td>5.373298</td>\n",
       "      <td>12.807330</td>\n",
       "      <td>6.764398</td>\n",
       "      <td>3.625131</td>\n",
       "      <td>2012.0</td>\n",
       "      <td>6.471204</td>\n",
       "    </tr>\n",
       "    <tr>\n",
       "      <th>2013-12-31</th>\n",
       "      <td>3.570000</td>\n",
       "      <td>10.621667</td>\n",
       "      <td>5.300000</td>\n",
       "      <td>3.813333</td>\n",
       "      <td>2013.0</td>\n",
       "      <td>2.350000</td>\n",
       "    </tr>\n",
       "    <tr>\n",
       "      <th>2014-12-31</th>\n",
       "      <td>2.633333</td>\n",
       "      <td>27.766667</td>\n",
       "      <td>14.833333</td>\n",
       "      <td>2.900000</td>\n",
       "      <td>2014.0</td>\n",
       "      <td>8.333333</td>\n",
       "    </tr>\n",
       "    <tr>\n",
       "      <th>2015-12-31</th>\n",
       "      <td>14.680000</td>\n",
       "      <td>18.540000</td>\n",
       "      <td>10.680000</td>\n",
       "      <td>4.220000</td>\n",
       "      <td>2015.0</td>\n",
       "      <td>6.200000</td>\n",
       "    </tr>\n",
       "    <tr>\n",
       "      <th rowspan=\"2\" valign=\"top\">snow</th>\n",
       "      <th>2012-12-31</th>\n",
       "      <td>9.509524</td>\n",
       "      <td>5.395238</td>\n",
       "      <td>0.304762</td>\n",
       "      <td>4.480952</td>\n",
       "      <td>2012.0</td>\n",
       "      <td>4.380952</td>\n",
       "    </tr>\n",
       "    <tr>\n",
       "      <th>2013-12-31</th>\n",
       "      <td>4.200000</td>\n",
       "      <td>6.650000</td>\n",
       "      <td>0.800000</td>\n",
       "      <td>3.500000</td>\n",
       "      <td>2013.0</td>\n",
       "      <td>2.000000</td>\n",
       "    </tr>\n",
       "    <tr>\n",
       "      <th rowspan=\"4\" valign=\"top\">sun</th>\n",
       "      <th>2012-12-31</th>\n",
       "      <td>0.000000</td>\n",
       "      <td>20.234746</td>\n",
       "      <td>8.933898</td>\n",
       "      <td>3.120339</td>\n",
       "      <td>2012.0</td>\n",
       "      <td>6.627119</td>\n",
       "    </tr>\n",
       "    <tr>\n",
       "      <th>2013-12-31</th>\n",
       "      <td>0.686829</td>\n",
       "      <td>18.471220</td>\n",
       "      <td>9.158537</td>\n",
       "      <td>2.704878</td>\n",
       "      <td>2013.0</td>\n",
       "      <td>7.497561</td>\n",
       "    </tr>\n",
       "    <tr>\n",
       "      <th>2014-12-31</th>\n",
       "      <td>0.358768</td>\n",
       "      <td>18.614218</td>\n",
       "      <td>8.943602</td>\n",
       "      <td>3.157820</td>\n",
       "      <td>2014.0</td>\n",
       "      <td>6.289100</td>\n",
       "    </tr>\n",
       "    <tr>\n",
       "      <th>2015-12-31</th>\n",
       "      <td>0.127222</td>\n",
       "      <td>20.683889</td>\n",
       "      <td>10.021667</td>\n",
       "      <td>3.036111</td>\n",
       "      <td>2015.0</td>\n",
       "      <td>6.350000</td>\n",
       "    </tr>\n",
       "  </tbody>\n",
       "</table>\n",
       "</div>"
      ],
      "text/plain": [
       "                    precipitation   temp_max   temp_min      wind    year  \\\n",
       "weather date                                                                \n",
       "drizzle 2012-12-31       0.000000  17.374194   8.667742  2.512903  2012.0   \n",
       "        2013-12-31       0.062500   7.912500   1.206250  2.200000  2013.0   \n",
       "        2014-12-31            NaN        NaN        NaN       NaN     NaN   \n",
       "        2015-12-31       0.000000  27.700000  14.042857  2.514286  2015.0   \n",
       "fog     2012-12-31       0.000000  21.100000   9.340000  2.420000  2012.0   \n",
       "        2013-12-31       5.653659  15.825610   9.265854  3.357317  2013.0   \n",
       "        2014-12-31       7.610596  14.520530   8.147020  3.718543  2014.0   \n",
       "        2015-12-31       6.028324  13.592486   7.337572  3.283815  2015.0   \n",
       "rain    2012-12-31       5.373298  12.807330   6.764398  3.625131  2012.0   \n",
       "        2013-12-31       3.570000  10.621667   5.300000  3.813333  2013.0   \n",
       "        2014-12-31       2.633333  27.766667  14.833333  2.900000  2014.0   \n",
       "        2015-12-31      14.680000  18.540000  10.680000  4.220000  2015.0   \n",
       "snow    2012-12-31       9.509524   5.395238   0.304762  4.480952  2012.0   \n",
       "        2013-12-31       4.200000   6.650000   0.800000  3.500000  2013.0   \n",
       "sun     2012-12-31       0.000000  20.234746   8.933898  3.120339  2012.0   \n",
       "        2013-12-31       0.686829  18.471220   9.158537  2.704878  2013.0   \n",
       "        2014-12-31       0.358768  18.614218   8.943602  3.157820  2014.0   \n",
       "        2015-12-31       0.127222  20.683889  10.021667  3.036111  2015.0   \n",
       "\n",
       "                       month  \n",
       "weather date                  \n",
       "drizzle 2012-12-31  7.387097  \n",
       "        2013-12-31  2.437500  \n",
       "        2014-12-31       NaN  \n",
       "        2015-12-31  7.714286  \n",
       "fog     2012-12-31  9.000000  \n",
       "        2013-12-31  8.060976  \n",
       "        2014-12-31  6.821192  \n",
       "        2015-12-31  6.670520  \n",
       "rain    2012-12-31  6.471204  \n",
       "        2013-12-31  2.350000  \n",
       "        2014-12-31  8.333333  \n",
       "        2015-12-31  6.200000  \n",
       "snow    2012-12-31  4.380952  \n",
       "        2013-12-31  2.000000  \n",
       "sun     2012-12-31  6.627119  \n",
       "        2013-12-31  7.497561  \n",
       "        2014-12-31  6.289100  \n",
       "        2015-12-31  6.350000  "
      ]
     },
     "execution_count": 34,
     "metadata": {},
     "output_type": "execute_result"
    }
   ],
   "source": [
    "df.set_index('date').groupby('weather').resample('Y').mean()\n"
   ]
  },
  {
   "cell_type": "code",
   "execution_count": null,
   "id": "73b56bca",
   "metadata": {},
   "outputs": [],
   "source": [
    "#class code\n",
    "df.set_index('date').groupby('weather').resample('Y').size().unstack(0)\n"
   ]
  },
  {
   "cell_type": "markdown",
   "id": "9fdcd5d3",
   "metadata": {},
   "source": [
    "## 1. Which year and month combination has the highest amount of precipitation?\n"
   ]
  },
  {
   "cell_type": "code",
   "execution_count": 36,
   "id": "22b815f4",
   "metadata": {},
   "outputs": [
    {
     "data": {
      "text/plain": [
       "date\n",
       "2012-03-31    183.0\n",
       "2012-11-30    210.5\n",
       "2015-11-30    212.6\n",
       "2014-03-31    240.0\n",
       "2015-12-31    284.5\n",
       "Name: precipitation, dtype: float64"
      ]
     },
     "execution_count": 36,
     "metadata": {},
     "output_type": "execute_result"
    }
   ],
   "source": [
    "# chose not to df = set_index('date') - having issues with code with it\n",
    "\n",
    "df.set_index('date').resample('M').sum().precipitation.sort_values().tail(5)\n"
   ]
  },
  {
   "cell_type": "code",
   "execution_count": 37,
   "id": "159d5761",
   "metadata": {},
   "outputs": [
    {
     "data": {
      "text/plain": [
       "year  month\n",
       "2015  12       284.5\n",
       "Name: precipitation, dtype: float64"
      ]
     },
     "execution_count": 37,
     "metadata": {},
     "output_type": "execute_result"
    }
   ],
   "source": [
    "df.groupby(['year', 'month']).precipitation.sum().sort_values().tail(1)\n",
    "# 2015-december had 284"
   ]
  },
  {
   "cell_type": "code",
   "execution_count": 38,
   "id": "a0ff9b38",
   "metadata": {},
   "outputs": [
    {
     "data": {
      "text/html": [
       "<div>\n",
       "<style scoped>\n",
       "    .dataframe tbody tr th:only-of-type {\n",
       "        vertical-align: middle;\n",
       "    }\n",
       "\n",
       "    .dataframe tbody tr th {\n",
       "        vertical-align: top;\n",
       "    }\n",
       "\n",
       "    .dataframe thead th {\n",
       "        text-align: right;\n",
       "    }\n",
       "</style>\n",
       "<table border=\"1\" class=\"dataframe\">\n",
       "  <thead>\n",
       "    <tr style=\"text-align: right;\">\n",
       "      <th></th>\n",
       "      <th>date</th>\n",
       "      <th>precipitation</th>\n",
       "      <th>temp_max</th>\n",
       "      <th>temp_min</th>\n",
       "      <th>wind</th>\n",
       "      <th>weather</th>\n",
       "      <th>year</th>\n",
       "      <th>month</th>\n",
       "    </tr>\n",
       "  </thead>\n",
       "  <tbody>\n",
       "    <tr>\n",
       "      <th>0</th>\n",
       "      <td>2012-01-01</td>\n",
       "      <td>0.0</td>\n",
       "      <td>12.8</td>\n",
       "      <td>5.0</td>\n",
       "      <td>4.7</td>\n",
       "      <td>drizzle</td>\n",
       "      <td>2012</td>\n",
       "      <td>1</td>\n",
       "    </tr>\n",
       "    <tr>\n",
       "      <th>1</th>\n",
       "      <td>2012-01-02</td>\n",
       "      <td>10.9</td>\n",
       "      <td>10.6</td>\n",
       "      <td>2.8</td>\n",
       "      <td>4.5</td>\n",
       "      <td>rain</td>\n",
       "      <td>2012</td>\n",
       "      <td>1</td>\n",
       "    </tr>\n",
       "    <tr>\n",
       "      <th>2</th>\n",
       "      <td>2012-01-03</td>\n",
       "      <td>0.8</td>\n",
       "      <td>11.7</td>\n",
       "      <td>7.2</td>\n",
       "      <td>2.3</td>\n",
       "      <td>rain</td>\n",
       "      <td>2012</td>\n",
       "      <td>1</td>\n",
       "    </tr>\n",
       "    <tr>\n",
       "      <th>3</th>\n",
       "      <td>2012-01-04</td>\n",
       "      <td>20.3</td>\n",
       "      <td>12.2</td>\n",
       "      <td>5.6</td>\n",
       "      <td>4.7</td>\n",
       "      <td>rain</td>\n",
       "      <td>2012</td>\n",
       "      <td>1</td>\n",
       "    </tr>\n",
       "    <tr>\n",
       "      <th>4</th>\n",
       "      <td>2012-01-05</td>\n",
       "      <td>1.3</td>\n",
       "      <td>8.9</td>\n",
       "      <td>2.8</td>\n",
       "      <td>6.1</td>\n",
       "      <td>rain</td>\n",
       "      <td>2012</td>\n",
       "      <td>1</td>\n",
       "    </tr>\n",
       "  </tbody>\n",
       "</table>\n",
       "</div>"
      ],
      "text/plain": [
       "        date  precipitation  temp_max  temp_min  wind  weather  year  month\n",
       "0 2012-01-01            0.0      12.8       5.0   4.7  drizzle  2012      1\n",
       "1 2012-01-02           10.9      10.6       2.8   4.5     rain  2012      1\n",
       "2 2012-01-03            0.8      11.7       7.2   2.3     rain  2012      1\n",
       "3 2012-01-04           20.3      12.2       5.6   4.7     rain  2012      1\n",
       "4 2012-01-05            1.3       8.9       2.8   6.1     rain  2012      1"
      ]
     },
     "execution_count": 38,
     "metadata": {},
     "output_type": "execute_result"
    }
   ],
   "source": [
    "df.head()"
   ]
  },
  {
   "cell_type": "markdown",
   "id": "5d5208f6",
   "metadata": {},
   "source": [
    "## 2. Visualize the amount of monthly precipitation over time.\n"
   ]
  },
  {
   "cell_type": "code",
   "execution_count": 40,
   "id": "1fed6ced",
   "metadata": {},
   "outputs": [
    {
     "data": {
      "image/png": "[encoded data removed]",
      "text/plain": [
       "<Figure size 576x432 with 1 Axes>"
      ]
     },
     "metadata": {
      "needs_background": "light"
     },
     "output_type": "display_data"
    }
   ],
   "source": [
    "df.set_index('date').resample('M').precipitation.sum().plot(title = 'Seattle monthly precipitation over time');"
   ]
  },
  {
   "cell_type": "markdown",
   "id": "a3abf7a5",
   "metadata": {},
   "source": [
    "## 3. Visualize the amount of wind over time. Choose a time interval you think is appropriate.\n"
   ]
  },
  {
   "cell_type": "code",
   "execution_count": 41,
   "id": "915fce85",
   "metadata": {},
   "outputs": [
    {
     "data": {
      "image/png": "[encoded data removed]",
      "text/plain": [
       "<Figure size 576x432 with 1 Axes>"
      ]
     },
     "metadata": {
      "needs_background": "light"
     },
     "output_type": "display_data"
    }
   ],
   "source": [
    "df.set_index('date').resample('m').wind.sum().plot(title = 'Seattle monthly wind over time');"
   ]
  },
  {
   "cell_type": "code",
   "execution_count": 42,
   "id": "760d5aee",
   "metadata": {},
   "outputs": [
    {
     "data": {
      "image/png": "[encoded data removed]",
      "text/plain": [
       "<Figure size 576x432 with 1 Axes>"
      ]
     },
     "metadata": {
      "needs_background": "light"
     },
     "output_type": "display_data"
    }
   ],
   "source": [
    "df.set_index('date').resample('w').wind.sum().plot(title = 'Seattle monthly wind over time');"
   ]
  },
  {
   "cell_type": "markdown",
   "id": "89420faa",
   "metadata": {},
   "source": [
    "## 4. Which year-month combination is the windiest?\n"
   ]
  },
  {
   "cell_type": "code",
   "execution_count": 43,
   "id": "517d75ac",
   "metadata": {},
   "outputs": [
    {
     "data": {
      "text/plain": [
       "year  month\n",
       "2014  2        4.528571\n",
       "Name: wind, dtype: float64"
      ]
     },
     "execution_count": 43,
     "metadata": {},
     "output_type": "execute_result"
    }
   ],
   "source": [
    "df.groupby(['year','month']).wind.mean().sort_values().tail(1)"
   ]
  },
  {
   "cell_type": "code",
   "execution_count": 46,
   "id": "c8634abc",
   "metadata": {},
   "outputs": [
    {
     "data": {
      "text/plain": [
       "date\n",
       "2014-02-28    4.528571\n",
       "Name: wind, dtype: float64"
      ]
     },
     "execution_count": 46,
     "metadata": {},
     "output_type": "execute_result"
    }
   ],
   "source": [
    "df.set_index('date').wind.resample('M').mean().sort_values().tail(1)\n"
   ]
  },
  {
   "cell_type": "markdown",
   "id": "aa527ab6",
   "metadata": {},
   "source": [
    "## 5. What's the sunniest year? (Hint: which day has the highest number of days where weather == sun?)\n"
   ]
  },
  {
   "cell_type": "code",
   "execution_count": 47,
   "id": "d757d700",
   "metadata": {},
   "outputs": [
    {
     "data": {
      "text/html": [
       "<div>\n",
       "<style scoped>\n",
       "    .dataframe tbody tr th:only-of-type {\n",
       "        vertical-align: middle;\n",
       "    }\n",
       "\n",
       "    .dataframe tbody tr th {\n",
       "        vertical-align: top;\n",
       "    }\n",
       "\n",
       "    .dataframe thead th {\n",
       "        text-align: right;\n",
       "    }\n",
       "</style>\n",
       "<table border=\"1\" class=\"dataframe\">\n",
       "  <thead>\n",
       "    <tr style=\"text-align: right;\">\n",
       "      <th></th>\n",
       "      <th>date</th>\n",
       "      <th>precipitation</th>\n",
       "      <th>temp_max</th>\n",
       "      <th>temp_min</th>\n",
       "      <th>wind</th>\n",
       "      <th>weather</th>\n",
       "      <th>year</th>\n",
       "      <th>month</th>\n",
       "    </tr>\n",
       "  </thead>\n",
       "  <tbody>\n",
       "    <tr>\n",
       "      <th>7</th>\n",
       "      <td>2012-01-08</td>\n",
       "      <td>0.0</td>\n",
       "      <td>10.0</td>\n",
       "      <td>2.8</td>\n",
       "      <td>2.0</td>\n",
       "      <td>sun</td>\n",
       "      <td>2012</td>\n",
       "      <td>1</td>\n",
       "    </tr>\n",
       "    <tr>\n",
       "      <th>10</th>\n",
       "      <td>2012-01-11</td>\n",
       "      <td>0.0</td>\n",
       "      <td>6.1</td>\n",
       "      <td>-1.1</td>\n",
       "      <td>5.1</td>\n",
       "      <td>sun</td>\n",
       "      <td>2012</td>\n",
       "      <td>1</td>\n",
       "    </tr>\n",
       "    <tr>\n",
       "      <th>11</th>\n",
       "      <td>2012-01-12</td>\n",
       "      <td>0.0</td>\n",
       "      <td>6.1</td>\n",
       "      <td>-1.7</td>\n",
       "      <td>1.9</td>\n",
       "      <td>sun</td>\n",
       "      <td>2012</td>\n",
       "      <td>1</td>\n",
       "    </tr>\n",
       "    <tr>\n",
       "      <th>12</th>\n",
       "      <td>2012-01-13</td>\n",
       "      <td>0.0</td>\n",
       "      <td>5.0</td>\n",
       "      <td>-2.8</td>\n",
       "      <td>1.3</td>\n",
       "      <td>sun</td>\n",
       "      <td>2012</td>\n",
       "      <td>1</td>\n",
       "    </tr>\n",
       "    <tr>\n",
       "      <th>32</th>\n",
       "      <td>2012-02-02</td>\n",
       "      <td>0.0</td>\n",
       "      <td>8.3</td>\n",
       "      <td>1.7</td>\n",
       "      <td>2.6</td>\n",
       "      <td>sun</td>\n",
       "      <td>2012</td>\n",
       "      <td>2</td>\n",
       "    </tr>\n",
       "    <tr>\n",
       "      <th>...</th>\n",
       "      <td>...</td>\n",
       "      <td>...</td>\n",
       "      <td>...</td>\n",
       "      <td>...</td>\n",
       "      <td>...</td>\n",
       "      <td>...</td>\n",
       "      <td>...</td>\n",
       "      <td>...</td>\n",
       "    </tr>\n",
       "    <tr>\n",
       "      <th>1442</th>\n",
       "      <td>2015-12-13</td>\n",
       "      <td>1.3</td>\n",
       "      <td>7.8</td>\n",
       "      <td>6.1</td>\n",
       "      <td>6.1</td>\n",
       "      <td>sun</td>\n",
       "      <td>2015</td>\n",
       "      <td>12</td>\n",
       "    </tr>\n",
       "    <tr>\n",
       "      <th>1443</th>\n",
       "      <td>2015-12-14</td>\n",
       "      <td>0.0</td>\n",
       "      <td>7.8</td>\n",
       "      <td>1.7</td>\n",
       "      <td>1.7</td>\n",
       "      <td>sun</td>\n",
       "      <td>2015</td>\n",
       "      <td>12</td>\n",
       "    </tr>\n",
       "    <tr>\n",
       "      <th>1455</th>\n",
       "      <td>2015-12-26</td>\n",
       "      <td>0.0</td>\n",
       "      <td>4.4</td>\n",
       "      <td>0.0</td>\n",
       "      <td>2.5</td>\n",
       "      <td>sun</td>\n",
       "      <td>2015</td>\n",
       "      <td>12</td>\n",
       "    </tr>\n",
       "    <tr>\n",
       "      <th>1459</th>\n",
       "      <td>2015-12-30</td>\n",
       "      <td>0.0</td>\n",
       "      <td>5.6</td>\n",
       "      <td>-1.0</td>\n",
       "      <td>3.4</td>\n",
       "      <td>sun</td>\n",
       "      <td>2015</td>\n",
       "      <td>12</td>\n",
       "    </tr>\n",
       "    <tr>\n",
       "      <th>1460</th>\n",
       "      <td>2015-12-31</td>\n",
       "      <td>0.0</td>\n",
       "      <td>5.6</td>\n",
       "      <td>-2.1</td>\n",
       "      <td>3.5</td>\n",
       "      <td>sun</td>\n",
       "      <td>2015</td>\n",
       "      <td>12</td>\n",
       "    </tr>\n",
       "  </tbody>\n",
       "</table>\n",
       "<p>714 rows × 8 columns</p>\n",
       "</div>"
      ],
      "text/plain": [
       "           date  precipitation  temp_max  temp_min  wind weather  year  month\n",
       "7    2012-01-08            0.0      10.0       2.8   2.0     sun  2012      1\n",
       "10   2012-01-11            0.0       6.1      -1.1   5.1     sun  2012      1\n",
       "11   2012-01-12            0.0       6.1      -1.7   1.9     sun  2012      1\n",
       "12   2012-01-13            0.0       5.0      -2.8   1.3     sun  2012      1\n",
       "32   2012-02-02            0.0       8.3       1.7   2.6     sun  2012      2\n",
       "...         ...            ...       ...       ...   ...     ...   ...    ...\n",
       "1442 2015-12-13            1.3       7.8       6.1   6.1     sun  2015     12\n",
       "1443 2015-12-14            0.0       7.8       1.7   1.7     sun  2015     12\n",
       "1455 2015-12-26            0.0       4.4       0.0   2.5     sun  2015     12\n",
       "1459 2015-12-30            0.0       5.6      -1.0   3.4     sun  2015     12\n",
       "1460 2015-12-31            0.0       5.6      -2.1   3.5     sun  2015     12\n",
       "\n",
       "[714 rows x 8 columns]"
      ]
     },
     "execution_count": 47,
     "metadata": {},
     "output_type": "execute_result"
    }
   ],
   "source": [
    "df[df.weather == 'sun']"
   ]
  },
  {
   "cell_type": "code",
   "execution_count": 48,
   "id": "ff7302b1",
   "metadata": {},
   "outputs": [
    {
     "data": {
      "text/html": [
       "<div>\n",
       "<style scoped>\n",
       "    .dataframe tbody tr th:only-of-type {\n",
       "        vertical-align: middle;\n",
       "    }\n",
       "\n",
       "    .dataframe tbody tr th {\n",
       "        vertical-align: top;\n",
       "    }\n",
       "\n",
       "    .dataframe thead th {\n",
       "        text-align: right;\n",
       "    }\n",
       "</style>\n",
       "<table border=\"1\" class=\"dataframe\">\n",
       "  <thead>\n",
       "    <tr style=\"text-align: right;\">\n",
       "      <th></th>\n",
       "      <th>date</th>\n",
       "      <th>precipitation</th>\n",
       "      <th>temp_max</th>\n",
       "      <th>temp_min</th>\n",
       "      <th>wind</th>\n",
       "      <th>weather</th>\n",
       "      <th>year</th>\n",
       "      <th>month</th>\n",
       "    </tr>\n",
       "  </thead>\n",
       "  <tbody>\n",
       "    <tr>\n",
       "      <th>342</th>\n",
       "      <td>2012-12-08</td>\n",
       "      <td>0.0</td>\n",
       "      <td>6.7</td>\n",
       "      <td>3.3</td>\n",
       "      <td>2.0</td>\n",
       "      <td>sun</td>\n",
       "      <td>2012</td>\n",
       "      <td>12</td>\n",
       "    </tr>\n",
       "    <tr>\n",
       "      <th>730</th>\n",
       "      <td>2013-12-31</td>\n",
       "      <td>0.5</td>\n",
       "      <td>8.3</td>\n",
       "      <td>5.0</td>\n",
       "      <td>1.7</td>\n",
       "      <td>sun</td>\n",
       "      <td>2013</td>\n",
       "      <td>12</td>\n",
       "    </tr>\n",
       "    <tr>\n",
       "      <th>1095</th>\n",
       "      <td>2014-12-31</td>\n",
       "      <td>0.0</td>\n",
       "      <td>3.3</td>\n",
       "      <td>-2.7</td>\n",
       "      <td>3.0</td>\n",
       "      <td>sun</td>\n",
       "      <td>2014</td>\n",
       "      <td>12</td>\n",
       "    </tr>\n",
       "    <tr>\n",
       "      <th>1460</th>\n",
       "      <td>2015-12-31</td>\n",
       "      <td>0.0</td>\n",
       "      <td>5.6</td>\n",
       "      <td>-2.1</td>\n",
       "      <td>3.5</td>\n",
       "      <td>sun</td>\n",
       "      <td>2015</td>\n",
       "      <td>12</td>\n",
       "    </tr>\n",
       "  </tbody>\n",
       "</table>\n",
       "</div>"
      ],
      "text/plain": [
       "           date  precipitation  temp_max  temp_min  wind weather  year  month\n",
       "342  2012-12-08            0.0       6.7       3.3   2.0     sun  2012     12\n",
       "730  2013-12-31            0.5       8.3       5.0   1.7     sun  2013     12\n",
       "1095 2014-12-31            0.0       3.3      -2.7   3.0     sun  2014     12\n",
       "1460 2015-12-31            0.0       5.6      -2.1   3.5     sun  2015     12"
      ]
     },
     "execution_count": 48,
     "metadata": {},
     "output_type": "execute_result"
    }
   ],
   "source": [
    "df[df.weather == 'sun'].groupby('year').tail(1)"
   ]
  },
  {
   "cell_type": "code",
   "execution_count": 49,
   "id": "1a37c4a6",
   "metadata": {},
   "outputs": [
    {
     "data": {
      "text/html": [
       "<div>\n",
       "<style scoped>\n",
       "    .dataframe tbody tr th:only-of-type {\n",
       "        vertical-align: middle;\n",
       "    }\n",
       "\n",
       "    .dataframe tbody tr th {\n",
       "        vertical-align: top;\n",
       "    }\n",
       "\n",
       "    .dataframe thead th {\n",
       "        text-align: right;\n",
       "    }\n",
       "</style>\n",
       "<table border=\"1\" class=\"dataframe\">\n",
       "  <thead>\n",
       "    <tr style=\"text-align: right;\">\n",
       "      <th></th>\n",
       "      <th>date</th>\n",
       "      <th>precipitation</th>\n",
       "      <th>temp_max</th>\n",
       "      <th>temp_min</th>\n",
       "      <th>wind</th>\n",
       "      <th>weather</th>\n",
       "      <th>month</th>\n",
       "    </tr>\n",
       "    <tr>\n",
       "      <th>year</th>\n",
       "      <th></th>\n",
       "      <th></th>\n",
       "      <th></th>\n",
       "      <th></th>\n",
       "      <th></th>\n",
       "      <th></th>\n",
       "      <th></th>\n",
       "    </tr>\n",
       "  </thead>\n",
       "  <tbody>\n",
       "    <tr>\n",
       "      <th>2012</th>\n",
       "      <td>118</td>\n",
       "      <td>118</td>\n",
       "      <td>118</td>\n",
       "      <td>118</td>\n",
       "      <td>118</td>\n",
       "      <td>118</td>\n",
       "      <td>118</td>\n",
       "    </tr>\n",
       "    <tr>\n",
       "      <th>2013</th>\n",
       "      <td>205</td>\n",
       "      <td>205</td>\n",
       "      <td>205</td>\n",
       "      <td>205</td>\n",
       "      <td>205</td>\n",
       "      <td>205</td>\n",
       "      <td>205</td>\n",
       "    </tr>\n",
       "    <tr>\n",
       "      <th>2014</th>\n",
       "      <td>211</td>\n",
       "      <td>211</td>\n",
       "      <td>211</td>\n",
       "      <td>211</td>\n",
       "      <td>211</td>\n",
       "      <td>211</td>\n",
       "      <td>211</td>\n",
       "    </tr>\n",
       "    <tr>\n",
       "      <th>2015</th>\n",
       "      <td>180</td>\n",
       "      <td>180</td>\n",
       "      <td>180</td>\n",
       "      <td>180</td>\n",
       "      <td>180</td>\n",
       "      <td>180</td>\n",
       "      <td>180</td>\n",
       "    </tr>\n",
       "  </tbody>\n",
       "</table>\n",
       "</div>"
      ],
      "text/plain": [
       "      date  precipitation  temp_max  temp_min  wind  weather  month\n",
       "year                                                               \n",
       "2012   118            118       118       118   118      118    118\n",
       "2013   205            205       205       205   205      205    205\n",
       "2014   211            211       211       211   211      211    211\n",
       "2015   180            180       180       180   180      180    180"
      ]
     },
     "execution_count": 49,
     "metadata": {},
     "output_type": "execute_result"
    }
   ],
   "source": [
    "df[df.weather == 'sun'].groupby('year').count()\n",
    "\n",
    "#issues getting this to display exactly what I want but the answer is readable"
   ]
  },
  {
   "cell_type": "code",
   "execution_count": null,
   "id": "5746958b",
   "metadata": {},
   "outputs": [],
   "source": [
    "# ref Ravinder's code he did it by creating a new column and .mean() by 'Y'"
   ]
  },
  {
   "cell_type": "markdown",
   "id": "432e8eb4",
   "metadata": {},
   "source": [
    "## 6. In which month does it rain the most?\n"
   ]
  },
  {
   "cell_type": "code",
   "execution_count": 50,
   "id": "442057cb",
   "metadata": {},
   "outputs": [
    {
     "data": {
      "text/html": [
       "<div>\n",
       "<style scoped>\n",
       "    .dataframe tbody tr th:only-of-type {\n",
       "        vertical-align: middle;\n",
       "    }\n",
       "\n",
       "    .dataframe tbody tr th {\n",
       "        vertical-align: top;\n",
       "    }\n",
       "\n",
       "    .dataframe thead th {\n",
       "        text-align: right;\n",
       "    }\n",
       "</style>\n",
       "<table border=\"1\" class=\"dataframe\">\n",
       "  <thead>\n",
       "    <tr style=\"text-align: right;\">\n",
       "      <th></th>\n",
       "      <th>date</th>\n",
       "      <th>precipitation</th>\n",
       "      <th>temp_max</th>\n",
       "      <th>temp_min</th>\n",
       "      <th>wind</th>\n",
       "      <th>weather</th>\n",
       "      <th>year</th>\n",
       "    </tr>\n",
       "    <tr>\n",
       "      <th>month</th>\n",
       "      <th></th>\n",
       "      <th></th>\n",
       "      <th></th>\n",
       "      <th></th>\n",
       "      <th></th>\n",
       "      <th></th>\n",
       "      <th></th>\n",
       "    </tr>\n",
       "  </thead>\n",
       "  <tbody>\n",
       "    <tr>\n",
       "      <th>1</th>\n",
       "      <td>35</td>\n",
       "      <td>35</td>\n",
       "      <td>35</td>\n",
       "      <td>35</td>\n",
       "      <td>35</td>\n",
       "      <td>35</td>\n",
       "      <td>35</td>\n",
       "    </tr>\n",
       "    <tr>\n",
       "      <th>2</th>\n",
       "      <td>40</td>\n",
       "      <td>40</td>\n",
       "      <td>40</td>\n",
       "      <td>40</td>\n",
       "      <td>40</td>\n",
       "      <td>40</td>\n",
       "      <td>40</td>\n",
       "    </tr>\n",
       "    <tr>\n",
       "      <th>3</th>\n",
       "      <td>37</td>\n",
       "      <td>37</td>\n",
       "      <td>37</td>\n",
       "      <td>37</td>\n",
       "      <td>37</td>\n",
       "      <td>37</td>\n",
       "      <td>37</td>\n",
       "    </tr>\n",
       "    <tr>\n",
       "      <th>4</th>\n",
       "      <td>20</td>\n",
       "      <td>20</td>\n",
       "      <td>20</td>\n",
       "      <td>20</td>\n",
       "      <td>20</td>\n",
       "      <td>20</td>\n",
       "      <td>20</td>\n",
       "    </tr>\n",
       "    <tr>\n",
       "      <th>5</th>\n",
       "      <td>16</td>\n",
       "      <td>16</td>\n",
       "      <td>16</td>\n",
       "      <td>16</td>\n",
       "      <td>16</td>\n",
       "      <td>16</td>\n",
       "      <td>16</td>\n",
       "    </tr>\n",
       "    <tr>\n",
       "      <th>6</th>\n",
       "      <td>19</td>\n",
       "      <td>19</td>\n",
       "      <td>19</td>\n",
       "      <td>19</td>\n",
       "      <td>19</td>\n",
       "      <td>19</td>\n",
       "      <td>19</td>\n",
       "    </tr>\n",
       "    <tr>\n",
       "      <th>7</th>\n",
       "      <td>14</td>\n",
       "      <td>14</td>\n",
       "      <td>14</td>\n",
       "      <td>14</td>\n",
       "      <td>14</td>\n",
       "      <td>14</td>\n",
       "      <td>14</td>\n",
       "    </tr>\n",
       "    <tr>\n",
       "      <th>8</th>\n",
       "      <td>6</td>\n",
       "      <td>6</td>\n",
       "      <td>6</td>\n",
       "      <td>6</td>\n",
       "      <td>6</td>\n",
       "      <td>6</td>\n",
       "      <td>6</td>\n",
       "    </tr>\n",
       "    <tr>\n",
       "      <th>9</th>\n",
       "      <td>4</td>\n",
       "      <td>4</td>\n",
       "      <td>4</td>\n",
       "      <td>4</td>\n",
       "      <td>4</td>\n",
       "      <td>4</td>\n",
       "      <td>4</td>\n",
       "    </tr>\n",
       "    <tr>\n",
       "      <th>10</th>\n",
       "      <td>20</td>\n",
       "      <td>20</td>\n",
       "      <td>20</td>\n",
       "      <td>20</td>\n",
       "      <td>20</td>\n",
       "      <td>20</td>\n",
       "      <td>20</td>\n",
       "    </tr>\n",
       "    <tr>\n",
       "      <th>11</th>\n",
       "      <td>25</td>\n",
       "      <td>25</td>\n",
       "      <td>25</td>\n",
       "      <td>25</td>\n",
       "      <td>25</td>\n",
       "      <td>25</td>\n",
       "      <td>25</td>\n",
       "    </tr>\n",
       "    <tr>\n",
       "      <th>12</th>\n",
       "      <td>23</td>\n",
       "      <td>23</td>\n",
       "      <td>23</td>\n",
       "      <td>23</td>\n",
       "      <td>23</td>\n",
       "      <td>23</td>\n",
       "      <td>23</td>\n",
       "    </tr>\n",
       "  </tbody>\n",
       "</table>\n",
       "</div>"
      ],
      "text/plain": [
       "       date  precipitation  temp_max  temp_min  wind  weather  year\n",
       "month                                                              \n",
       "1        35             35        35        35    35       35    35\n",
       "2        40             40        40        40    40       40    40\n",
       "3        37             37        37        37    37       37    37\n",
       "4        20             20        20        20    20       20    20\n",
       "5        16             16        16        16    16       16    16\n",
       "6        19             19        19        19    19       19    19\n",
       "7        14             14        14        14    14       14    14\n",
       "8         6              6         6         6     6        6     6\n",
       "9         4              4         4         4     4        4     4\n",
       "10       20             20        20        20    20       20    20\n",
       "11       25             25        25        25    25       25    25\n",
       "12       23             23        23        23    23       23    23"
      ]
     },
     "execution_count": 50,
     "metadata": {},
     "output_type": "execute_result"
    }
   ],
   "source": [
    "df[df.weather== 'rain'].groupby('month').count()"
   ]
  },
  {
   "cell_type": "code",
   "execution_count": 51,
   "id": "8f89df5a",
   "metadata": {},
   "outputs": [
    {
     "data": {
      "text/plain": [
       "month\n",
       "11    642.5\n",
       "Name: precipitation, dtype: float64"
      ]
     },
     "execution_count": 51,
     "metadata": {},
     "output_type": "execute_result"
    }
   ],
   "source": [
    "df.groupby('month').precipitation.sum().sort_values().tail(1)"
   ]
  },
  {
   "cell_type": "markdown",
   "id": "06628482",
   "metadata": {},
   "source": [
    "## 7. Which month has the most number of days with a non-zero amount of precipitation?\n"
   ]
  },
  {
   "cell_type": "code",
   "execution_count": 52,
   "id": "68275792",
   "metadata": {},
   "outputs": [],
   "source": [
    "#create boolean column\n",
    "df['rainy_day'] = df.precipitation > 0"
   ]
  },
  {
   "cell_type": "code",
   "execution_count": 53,
   "id": "bbd0e1cc",
   "metadata": {},
   "outputs": [
    {
     "data": {
      "text/plain": [
       "month\n",
       "12    81\n",
       "Name: rainy_day, dtype: int64"
      ]
     },
     "execution_count": 53,
     "metadata": {},
     "output_type": "execute_result"
    }
   ],
   "source": [
    "# groupby month - bool col - sum() - \n",
    "df.groupby('month').rainy_day.sum().sort_values().tail(1)"
   ]
  },
  {
   "cell_type": "code",
   "execution_count": 54,
   "id": "a7267f1e",
   "metadata": {},
   "outputs": [
    {
     "data": {
      "text/html": [
       "<div>\n",
       "<style scoped>\n",
       "    .dataframe tbody tr th:only-of-type {\n",
       "        vertical-align: middle;\n",
       "    }\n",
       "\n",
       "    .dataframe tbody tr th {\n",
       "        vertical-align: top;\n",
       "    }\n",
       "\n",
       "    .dataframe thead th {\n",
       "        text-align: right;\n",
       "    }\n",
       "</style>\n",
       "<table border=\"1\" class=\"dataframe\">\n",
       "  <thead>\n",
       "    <tr style=\"text-align: right;\">\n",
       "      <th></th>\n",
       "      <th>date</th>\n",
       "      <th>precipitation</th>\n",
       "      <th>temp_max</th>\n",
       "      <th>temp_min</th>\n",
       "      <th>wind</th>\n",
       "      <th>weather</th>\n",
       "      <th>month</th>\n",
       "      <th>rainy_day</th>\n",
       "    </tr>\n",
       "    <tr>\n",
       "      <th>year</th>\n",
       "      <th></th>\n",
       "      <th></th>\n",
       "      <th></th>\n",
       "      <th></th>\n",
       "      <th></th>\n",
       "      <th></th>\n",
       "      <th></th>\n",
       "      <th></th>\n",
       "    </tr>\n",
       "  </thead>\n",
       "  <tbody>\n",
       "    <tr>\n",
       "      <th>2012</th>\n",
       "      <td>366</td>\n",
       "      <td>366</td>\n",
       "      <td>366</td>\n",
       "      <td>366</td>\n",
       "      <td>366</td>\n",
       "      <td>366</td>\n",
       "      <td>366</td>\n",
       "      <td>366</td>\n",
       "    </tr>\n",
       "    <tr>\n",
       "      <th>2013</th>\n",
       "      <td>365</td>\n",
       "      <td>365</td>\n",
       "      <td>365</td>\n",
       "      <td>365</td>\n",
       "      <td>365</td>\n",
       "      <td>365</td>\n",
       "      <td>365</td>\n",
       "      <td>365</td>\n",
       "    </tr>\n",
       "    <tr>\n",
       "      <th>2014</th>\n",
       "      <td>365</td>\n",
       "      <td>365</td>\n",
       "      <td>365</td>\n",
       "      <td>365</td>\n",
       "      <td>365</td>\n",
       "      <td>365</td>\n",
       "      <td>365</td>\n",
       "      <td>365</td>\n",
       "    </tr>\n",
       "    <tr>\n",
       "      <th>2015</th>\n",
       "      <td>365</td>\n",
       "      <td>365</td>\n",
       "      <td>365</td>\n",
       "      <td>365</td>\n",
       "      <td>365</td>\n",
       "      <td>365</td>\n",
       "      <td>365</td>\n",
       "      <td>365</td>\n",
       "    </tr>\n",
       "  </tbody>\n",
       "</table>\n",
       "</div>"
      ],
      "text/plain": [
       "      date  precipitation  temp_max  temp_min  wind  weather  month  rainy_day\n",
       "year                                                                          \n",
       "2012   366            366       366       366   366      366    366        366\n",
       "2013   365            365       365       365   365      365    365        365\n",
       "2014   365            365       365       365   365      365    365        365\n",
       "2015   365            365       365       365   365      365    365        365"
      ]
     },
     "execution_count": 54,
     "metadata": {},
     "output_type": "execute_result"
    }
   ],
   "source": [
    "df.groupby('year').count()\n"
   ]
  },
  {
   "cell_type": "code",
   "execution_count": null,
   "id": "2c143816",
   "metadata": {},
   "outputs": [],
   "source": [
    "# rained 81 days on decemeber over 5 years"
   ]
  },
  {
   "cell_type": "code",
   "execution_count": 55,
   "id": "56a8cb4a",
   "metadata": {},
   "outputs": [
    {
     "name": "stdout",
     "output_type": "stream",
     "text": [
      "The chance of rain in decemeber is:  65.32 %\n"
     ]
    }
   ],
   "source": [
    "# I think this is right\n",
    "rain_chance = (81 / (4*31)) * 100\n",
    "print(f'The chance of rain in decemeber is: {rain_chance: .2f} %')"
   ]
  },
  {
   "cell_type": "markdown",
   "id": "e0a5b588",
   "metadata": {},
   "source": [
    "<hr style=\"border:1px solid black\"> </hr>\n"
   ]
  },
  {
   "cell_type": "markdown",
   "id": "0a78545e",
   "metadata": {},
   "source": [
    "### Flight Dataset"
   ]
  },
  {
   "cell_type": "code",
   "execution_count": 56,
   "id": "3c3707f0",
   "metadata": {},
   "outputs": [
    {
     "data": {
      "text/html": [
       "<div>\n",
       "<style scoped>\n",
       "    .dataframe tbody tr th:only-of-type {\n",
       "        vertical-align: middle;\n",
       "    }\n",
       "\n",
       "    .dataframe tbody tr th {\n",
       "        vertical-align: top;\n",
       "    }\n",
       "\n",
       "    .dataframe thead th {\n",
       "        text-align: right;\n",
       "    }\n",
       "</style>\n",
       "<table border=\"1\" class=\"dataframe\">\n",
       "  <thead>\n",
       "    <tr style=\"text-align: right;\">\n",
       "      <th></th>\n",
       "      <th>date</th>\n",
       "      <th>delay</th>\n",
       "      <th>distance</th>\n",
       "      <th>origin</th>\n",
       "      <th>destination</th>\n",
       "    </tr>\n",
       "  </thead>\n",
       "  <tbody>\n",
       "    <tr>\n",
       "      <th>0</th>\n",
       "      <td>2001-01-13 14:56:00</td>\n",
       "      <td>32</td>\n",
       "      <td>417</td>\n",
       "      <td>SAN</td>\n",
       "      <td>SJC</td>\n",
       "    </tr>\n",
       "    <tr>\n",
       "      <th>1</th>\n",
       "      <td>2001-01-31 16:40:00</td>\n",
       "      <td>-5</td>\n",
       "      <td>1093</td>\n",
       "      <td>FLL</td>\n",
       "      <td>ISP</td>\n",
       "    </tr>\n",
       "    <tr>\n",
       "      <th>2</th>\n",
       "      <td>2001-02-11 18:39:00</td>\n",
       "      <td>3</td>\n",
       "      <td>293</td>\n",
       "      <td>LBB</td>\n",
       "      <td>DAL</td>\n",
       "    </tr>\n",
       "    <tr>\n",
       "      <th>3</th>\n",
       "      <td>2001-01-10 21:00:00</td>\n",
       "      <td>-15</td>\n",
       "      <td>550</td>\n",
       "      <td>MSY</td>\n",
       "      <td>MCO</td>\n",
       "    </tr>\n",
       "    <tr>\n",
       "      <th>4</th>\n",
       "      <td>2001-03-30 21:45:00</td>\n",
       "      <td>-2</td>\n",
       "      <td>229</td>\n",
       "      <td>STL</td>\n",
       "      <td>IND</td>\n",
       "    </tr>\n",
       "    <tr>\n",
       "      <th>...</th>\n",
       "      <td>...</td>\n",
       "      <td>...</td>\n",
       "      <td>...</td>\n",
       "      <td>...</td>\n",
       "      <td>...</td>\n",
       "    </tr>\n",
       "    <tr>\n",
       "      <th>19995</th>\n",
       "      <td>2001-03-22 15:10:00</td>\n",
       "      <td>4</td>\n",
       "      <td>446</td>\n",
       "      <td>SAN</td>\n",
       "      <td>OAK</td>\n",
       "    </tr>\n",
       "    <tr>\n",
       "      <th>19996</th>\n",
       "      <td>2001-01-19 13:05:00</td>\n",
       "      <td>-6</td>\n",
       "      <td>1489</td>\n",
       "      <td>SEA</td>\n",
       "      <td>MCI</td>\n",
       "    </tr>\n",
       "    <tr>\n",
       "      <th>19997</th>\n",
       "      <td>2001-02-07 11:37:00</td>\n",
       "      <td>-16</td>\n",
       "      <td>1848</td>\n",
       "      <td>MCO</td>\n",
       "      <td>PHX</td>\n",
       "    </tr>\n",
       "    <tr>\n",
       "      <th>19998</th>\n",
       "      <td>2001-02-24 16:50:00</td>\n",
       "      <td>42</td>\n",
       "      <td>443</td>\n",
       "      <td>RDU</td>\n",
       "      <td>BNA</td>\n",
       "    </tr>\n",
       "    <tr>\n",
       "      <th>19999</th>\n",
       "      <td>2001-03-14 11:33:00</td>\n",
       "      <td>0</td>\n",
       "      <td>328</td>\n",
       "      <td>ABQ</td>\n",
       "      <td>PHX</td>\n",
       "    </tr>\n",
       "  </tbody>\n",
       "</table>\n",
       "<p>20000 rows × 5 columns</p>\n",
       "</div>"
      ],
      "text/plain": [
       "                     date  delay  distance origin destination\n",
       "0     2001-01-13 14:56:00     32       417    SAN         SJC\n",
       "1     2001-01-31 16:40:00     -5      1093    FLL         ISP\n",
       "2     2001-02-11 18:39:00      3       293    LBB         DAL\n",
       "3     2001-01-10 21:00:00    -15       550    MSY         MCO\n",
       "4     2001-03-30 21:45:00     -2       229    STL         IND\n",
       "...                   ...    ...       ...    ...         ...\n",
       "19995 2001-03-22 15:10:00      4       446    SAN         OAK\n",
       "19996 2001-01-19 13:05:00     -6      1489    SEA         MCI\n",
       "19997 2001-02-07 11:37:00    -16      1848    MCO         PHX\n",
       "19998 2001-02-24 16:50:00     42       443    RDU         BNA\n",
       "19999 2001-03-14 11:33:00      0       328    ABQ         PHX\n",
       "\n",
       "[20000 rows x 5 columns]"
      ]
     },
     "execution_count": 56,
     "metadata": {},
     "output_type": "execute_result"
    }
   ],
   "source": [
    "df = data.flights_20k()\n",
    "df"
   ]
  },
  {
   "cell_type": "code",
   "execution_count": 57,
   "id": "f89e1981",
   "metadata": {},
   "outputs": [
    {
     "data": {
      "text/plain": [
       "(20000, 5)"
      ]
     },
     "execution_count": 57,
     "metadata": {},
     "output_type": "execute_result"
    }
   ],
   "source": [
    "df.shape\n"
   ]
  },
  {
   "cell_type": "code",
   "execution_count": 58,
   "id": "24023a7f",
   "metadata": {},
   "outputs": [
    {
     "data": {
      "text/plain": [
       "date           0\n",
       "delay          0\n",
       "distance       0\n",
       "origin         0\n",
       "destination    0\n",
       "dtype: int64"
      ]
     },
     "execution_count": 58,
     "metadata": {},
     "output_type": "execute_result"
    }
   ],
   "source": [
    "df.isnull().sum()"
   ]
  },
  {
   "cell_type": "code",
   "execution_count": 59,
   "id": "8fabac5a",
   "metadata": {},
   "outputs": [
    {
     "name": "stdout",
     "output_type": "stream",
     "text": [
      "<class 'pandas.core.frame.DataFrame'>\n",
      "RangeIndex: 20000 entries, 0 to 19999\n",
      "Data columns (total 5 columns):\n",
      " #   Column       Non-Null Count  Dtype         \n",
      "---  ------       --------------  -----         \n",
      " 0   date         20000 non-null  datetime64[ns]\n",
      " 1   delay        20000 non-null  int64         \n",
      " 2   distance     20000 non-null  int64         \n",
      " 3   origin       20000 non-null  object        \n",
      " 4   destination  20000 non-null  object        \n",
      "dtypes: datetime64[ns](1), int64(2), object(2)\n",
      "memory usage: 781.4+ KB\n"
     ]
    }
   ],
   "source": [
    "df.info()"
   ]
  },
  {
   "cell_type": "markdown",
   "id": "c509bd52",
   "metadata": {},
   "source": [
    "## Convert any negative delays to 0.\n"
   ]
  },
  {
   "cell_type": "code",
   "execution_count": 60,
   "id": "2a699799",
   "metadata": {},
   "outputs": [
    {
     "data": {
      "text/plain": [
       "date           8482\n",
       "delay          8482\n",
       "distance       8482\n",
       "origin         8482\n",
       "destination    8482\n",
       "dtype: int64"
      ]
     },
     "execution_count": 60,
     "metadata": {},
     "output_type": "execute_result"
    }
   ],
   "source": [
    "#8482 delays\n",
    "df[df['delay'] < 0].count()"
   ]
  },
  {
   "cell_type": "code",
   "execution_count": 61,
   "id": "4cc339d6",
   "metadata": {},
   "outputs": [],
   "source": [
    "def delay_to_zero(x):\n",
    "    if x < 0:\n",
    "        x = 0\n",
    "    return x"
   ]
  },
  {
   "cell_type": "code",
   "execution_count": 63,
   "id": "e58e7bc5",
   "metadata": {},
   "outputs": [],
   "source": [
    "# run function on delay column\n",
    "df['delay'] = df['delay'].apply(delay_to_zero)"
   ]
  },
  {
   "cell_type": "code",
   "execution_count": 66,
   "id": "261b57a4",
   "metadata": {},
   "outputs": [
    {
     "data": {
      "text/plain": [
       "0      10516\n",
       "5        776\n",
       "3        577\n",
       "2        507\n",
       "10       476\n",
       "       ...  \n",
       "215        1\n",
       "241        1\n",
       "190        1\n",
       "244        1\n",
       "232        1\n",
       "Name: delay, Length: 194, dtype: int64"
      ]
     },
     "execution_count": 66,
     "metadata": {},
     "output_type": "execute_result"
    }
   ],
   "source": [
    "# changed 10_516 values\n",
    "df.delay.value_counts()"
   ]
  },
  {
   "cell_type": "markdown",
   "id": "028859dc",
   "metadata": {},
   "source": [
    "## Which hour of the day has the highest average delay?\n"
   ]
  },
  {
   "cell_type": "code",
   "execution_count": 69,
   "id": "443565d4",
   "metadata": {},
   "outputs": [],
   "source": [
    "#setting index by date - should do firsrt\n",
    "df = df.set_index('date').sort_index()"
   ]
  },
  {
   "cell_type": "code",
   "execution_count": 71,
   "id": "c2af00f4",
   "metadata": {},
   "outputs": [
    {
     "data": {
      "text/html": [
       "<div>\n",
       "<style scoped>\n",
       "    .dataframe tbody tr th:only-of-type {\n",
       "        vertical-align: middle;\n",
       "    }\n",
       "\n",
       "    .dataframe tbody tr th {\n",
       "        vertical-align: top;\n",
       "    }\n",
       "\n",
       "    .dataframe thead th {\n",
       "        text-align: right;\n",
       "    }\n",
       "</style>\n",
       "<table border=\"1\" class=\"dataframe\">\n",
       "  <thead>\n",
       "    <tr style=\"text-align: right;\">\n",
       "      <th></th>\n",
       "      <th>delay</th>\n",
       "      <th>distance</th>\n",
       "      <th>origin</th>\n",
       "      <th>destination</th>\n",
       "      <th>hour</th>\n",
       "    </tr>\n",
       "    <tr>\n",
       "      <th>date</th>\n",
       "      <th></th>\n",
       "      <th></th>\n",
       "      <th></th>\n",
       "      <th></th>\n",
       "      <th></th>\n",
       "    </tr>\n",
       "  </thead>\n",
       "  <tbody>\n",
       "    <tr>\n",
       "      <th>2001-01-01 00:01:00</th>\n",
       "      <td>14</td>\n",
       "      <td>405</td>\n",
       "      <td>MCI</td>\n",
       "      <td>MDW</td>\n",
       "      <td>0</td>\n",
       "    </tr>\n",
       "    <tr>\n",
       "      <th>2001-01-01 06:20:00</th>\n",
       "      <td>0</td>\n",
       "      <td>491</td>\n",
       "      <td>BNA</td>\n",
       "      <td>MCI</td>\n",
       "      <td>6</td>\n",
       "    </tr>\n",
       "    <tr>\n",
       "      <th>2001-01-01 06:30:00</th>\n",
       "      <td>0</td>\n",
       "      <td>251</td>\n",
       "      <td>MDW</td>\n",
       "      <td>STL</td>\n",
       "      <td>6</td>\n",
       "    </tr>\n",
       "    <tr>\n",
       "      <th>2001-01-01 07:00:00</th>\n",
       "      <td>0</td>\n",
       "      <td>361</td>\n",
       "      <td>OAK</td>\n",
       "      <td>ONT</td>\n",
       "      <td>7</td>\n",
       "    </tr>\n",
       "    <tr>\n",
       "      <th>2001-01-01 07:00:00</th>\n",
       "      <td>0</td>\n",
       "      <td>303</td>\n",
       "      <td>MSY</td>\n",
       "      <td>HOU</td>\n",
       "      <td>7</td>\n",
       "    </tr>\n",
       "  </tbody>\n",
       "</table>\n",
       "</div>"
      ],
      "text/plain": [
       "                     delay  distance origin destination  hour\n",
       "date                                                         \n",
       "2001-01-01 00:01:00     14       405    MCI         MDW     0\n",
       "2001-01-01 06:20:00      0       491    BNA         MCI     6\n",
       "2001-01-01 06:30:00      0       251    MDW         STL     6\n",
       "2001-01-01 07:00:00      0       361    OAK         ONT     7\n",
       "2001-01-01 07:00:00      0       303    MSY         HOU     7"
      ]
     },
     "execution_count": 71,
     "metadata": {},
     "output_type": "execute_result"
    }
   ],
   "source": [
    "df['hour'] = df.index.hour\n",
    "df.head()"
   ]
  },
  {
   "cell_type": "code",
   "execution_count": 74,
   "id": "c91972b0",
   "metadata": {},
   "outputs": [
    {
     "data": {
      "text/plain": [
       "hour\n",
       "3    302.5\n",
       "Name: delay, dtype: float64"
      ]
     },
     "execution_count": 74,
     "metadata": {},
     "output_type": "execute_result"
    }
   ],
   "source": [
    "df.groupby('hour').delay.mean().sort_values().tail(1)\n",
    "# 03 hour has the worst delays on average"
   ]
  },
  {
   "cell_type": "markdown",
   "id": "fc40237f",
   "metadata": {},
   "source": [
    "## Does the day of the week make a difference in the delay amount?"
   ]
  },
  {
   "cell_type": "code",
   "execution_count": 80,
   "id": "b66740d6",
   "metadata": {},
   "outputs": [
    {
     "data": {
      "text/html": [
       "<div>\n",
       "<style scoped>\n",
       "    .dataframe tbody tr th:only-of-type {\n",
       "        vertical-align: middle;\n",
       "    }\n",
       "\n",
       "    .dataframe tbody tr th {\n",
       "        vertical-align: top;\n",
       "    }\n",
       "\n",
       "    .dataframe thead th {\n",
       "        text-align: right;\n",
       "    }\n",
       "</style>\n",
       "<table border=\"1\" class=\"dataframe\">\n",
       "  <thead>\n",
       "    <tr style=\"text-align: right;\">\n",
       "      <th></th>\n",
       "      <th>delay</th>\n",
       "      <th>distance</th>\n",
       "      <th>origin</th>\n",
       "      <th>destination</th>\n",
       "      <th>hour</th>\n",
       "      <th>week_day</th>\n",
       "    </tr>\n",
       "    <tr>\n",
       "      <th>date</th>\n",
       "      <th></th>\n",
       "      <th></th>\n",
       "      <th></th>\n",
       "      <th></th>\n",
       "      <th></th>\n",
       "      <th></th>\n",
       "    </tr>\n",
       "  </thead>\n",
       "  <tbody>\n",
       "    <tr>\n",
       "      <th>2001-01-01 00:01:00</th>\n",
       "      <td>14</td>\n",
       "      <td>405</td>\n",
       "      <td>MCI</td>\n",
       "      <td>MDW</td>\n",
       "      <td>0</td>\n",
       "      <td>Monday</td>\n",
       "    </tr>\n",
       "    <tr>\n",
       "      <th>2001-01-01 06:20:00</th>\n",
       "      <td>0</td>\n",
       "      <td>491</td>\n",
       "      <td>BNA</td>\n",
       "      <td>MCI</td>\n",
       "      <td>6</td>\n",
       "      <td>Monday</td>\n",
       "    </tr>\n",
       "    <tr>\n",
       "      <th>2001-01-01 06:30:00</th>\n",
       "      <td>0</td>\n",
       "      <td>251</td>\n",
       "      <td>MDW</td>\n",
       "      <td>STL</td>\n",
       "      <td>6</td>\n",
       "      <td>Monday</td>\n",
       "    </tr>\n",
       "    <tr>\n",
       "      <th>2001-01-01 07:00:00</th>\n",
       "      <td>0</td>\n",
       "      <td>361</td>\n",
       "      <td>OAK</td>\n",
       "      <td>ONT</td>\n",
       "      <td>7</td>\n",
       "      <td>Monday</td>\n",
       "    </tr>\n",
       "    <tr>\n",
       "      <th>2001-01-01 07:00:00</th>\n",
       "      <td>0</td>\n",
       "      <td>303</td>\n",
       "      <td>MSY</td>\n",
       "      <td>HOU</td>\n",
       "      <td>7</td>\n",
       "      <td>Monday</td>\n",
       "    </tr>\n",
       "  </tbody>\n",
       "</table>\n",
       "</div>"
      ],
      "text/plain": [
       "                     delay  distance origin destination  hour week_day\n",
       "date                                                                  \n",
       "2001-01-01 00:01:00     14       405    MCI         MDW     0   Monday\n",
       "2001-01-01 06:20:00      0       491    BNA         MCI     6   Monday\n",
       "2001-01-01 06:30:00      0       251    MDW         STL     6   Monday\n",
       "2001-01-01 07:00:00      0       361    OAK         ONT     7   Monday\n",
       "2001-01-01 07:00:00      0       303    MSY         HOU     7   Monday"
      ]
     },
     "execution_count": 80,
     "metadata": {},
     "output_type": "execute_result"
    }
   ],
   "source": [
    "# need to establish day of the week as column\n",
    "\n",
    "df['week_day'] = df.index.day_name()\n",
    "df.head()"
   ]
  },
  {
   "cell_type": "code",
   "execution_count": 88,
   "id": "d5ddfda1",
   "metadata": {},
   "outputs": [
    {
     "data": {
      "text/plain": [
       "Wednesday    3079\n",
       "Friday       3028\n",
       "Thursday     3011\n",
       "Monday       2980\n",
       "Tuesday      2945\n",
       "Sunday       2614\n",
       "Saturday     2343\n",
       "Name: week_day, dtype: int64"
      ]
     },
     "execution_count": 88,
     "metadata": {},
     "output_type": "execute_result"
    }
   ],
   "source": [
    "df.week_day.value_counts()"
   ]
  },
  {
   "cell_type": "code",
   "execution_count": 90,
   "id": "e1ead314",
   "metadata": {},
   "outputs": [
    {
     "data": {
      "text/plain": [
       "week_day\n",
       "Friday       17.757596\n",
       "Monday        7.165772\n",
       "Saturday      8.431498\n",
       "Sunday       10.413542\n",
       "Thursday     12.821322\n",
       "Tuesday       9.410866\n",
       "Wednesday    11.032478\n",
       "Name: delay, dtype: float64"
      ]
     },
     "execution_count": 90,
     "metadata": {},
     "output_type": "execute_result"
    }
   ],
   "source": [
    "df.groupby('week_day').delay.mean()"
   ]
  },
  {
   "cell_type": "markdown",
   "id": "fefa286a",
   "metadata": {},
   "source": [
    "## Does the month make a difference in the delay amount?"
   ]
  },
  {
   "cell_type": "code",
   "execution_count": 92,
   "id": "ec3308cf",
   "metadata": {},
   "outputs": [
    {
     "data": {
      "text/html": [
       "<div>\n",
       "<style scoped>\n",
       "    .dataframe tbody tr th:only-of-type {\n",
       "        vertical-align: middle;\n",
       "    }\n",
       "\n",
       "    .dataframe tbody tr th {\n",
       "        vertical-align: top;\n",
       "    }\n",
       "\n",
       "    .dataframe thead th {\n",
       "        text-align: right;\n",
       "    }\n",
       "</style>\n",
       "<table border=\"1\" class=\"dataframe\">\n",
       "  <thead>\n",
       "    <tr style=\"text-align: right;\">\n",
       "      <th></th>\n",
       "      <th>delay</th>\n",
       "      <th>distance</th>\n",
       "      <th>origin</th>\n",
       "      <th>destination</th>\n",
       "      <th>hour</th>\n",
       "      <th>week_day</th>\n",
       "      <th>month</th>\n",
       "    </tr>\n",
       "    <tr>\n",
       "      <th>date</th>\n",
       "      <th></th>\n",
       "      <th></th>\n",
       "      <th></th>\n",
       "      <th></th>\n",
       "      <th></th>\n",
       "      <th></th>\n",
       "      <th></th>\n",
       "    </tr>\n",
       "  </thead>\n",
       "  <tbody>\n",
       "    <tr>\n",
       "      <th>2001-01-01 00:01:00</th>\n",
       "      <td>14</td>\n",
       "      <td>405</td>\n",
       "      <td>MCI</td>\n",
       "      <td>MDW</td>\n",
       "      <td>0</td>\n",
       "      <td>Monday</td>\n",
       "      <td>January</td>\n",
       "    </tr>\n",
       "    <tr>\n",
       "      <th>2001-01-01 06:20:00</th>\n",
       "      <td>0</td>\n",
       "      <td>491</td>\n",
       "      <td>BNA</td>\n",
       "      <td>MCI</td>\n",
       "      <td>6</td>\n",
       "      <td>Monday</td>\n",
       "      <td>January</td>\n",
       "    </tr>\n",
       "    <tr>\n",
       "      <th>2001-01-01 06:30:00</th>\n",
       "      <td>0</td>\n",
       "      <td>251</td>\n",
       "      <td>MDW</td>\n",
       "      <td>STL</td>\n",
       "      <td>6</td>\n",
       "      <td>Monday</td>\n",
       "      <td>January</td>\n",
       "    </tr>\n",
       "    <tr>\n",
       "      <th>2001-01-01 07:00:00</th>\n",
       "      <td>0</td>\n",
       "      <td>361</td>\n",
       "      <td>OAK</td>\n",
       "      <td>ONT</td>\n",
       "      <td>7</td>\n",
       "      <td>Monday</td>\n",
       "      <td>January</td>\n",
       "    </tr>\n",
       "    <tr>\n",
       "      <th>2001-01-01 07:00:00</th>\n",
       "      <td>0</td>\n",
       "      <td>303</td>\n",
       "      <td>MSY</td>\n",
       "      <td>HOU</td>\n",
       "      <td>7</td>\n",
       "      <td>Monday</td>\n",
       "      <td>January</td>\n",
       "    </tr>\n",
       "  </tbody>\n",
       "</table>\n",
       "</div>"
      ],
      "text/plain": [
       "                     delay  distance origin destination  hour week_day  \\\n",
       "date                                                                     \n",
       "2001-01-01 00:01:00     14       405    MCI         MDW     0   Monday   \n",
       "2001-01-01 06:20:00      0       491    BNA         MCI     6   Monday   \n",
       "2001-01-01 06:30:00      0       251    MDW         STL     6   Monday   \n",
       "2001-01-01 07:00:00      0       361    OAK         ONT     7   Monday   \n",
       "2001-01-01 07:00:00      0       303    MSY         HOU     7   Monday   \n",
       "\n",
       "                       month  \n",
       "date                          \n",
       "2001-01-01 00:01:00  January  \n",
       "2001-01-01 06:20:00  January  \n",
       "2001-01-01 06:30:00  January  \n",
       "2001-01-01 07:00:00  January  \n",
       "2001-01-01 07:00:00  January  "
      ]
     },
     "execution_count": 92,
     "metadata": {},
     "output_type": "execute_result"
    }
   ],
   "source": [
    "df['month'] = df.index.month_name()\n",
    "df.head()"
   ]
  },
  {
   "cell_type": "code",
   "execution_count": 93,
   "id": "e34cb23e",
   "metadata": {},
   "outputs": [
    {
     "data": {
      "text/plain": [
       "month\n",
       "February    12.306106\n",
       "January     11.301592\n",
       "March        9.875287\n",
       "Name: delay, dtype: float64"
      ]
     },
     "execution_count": 93,
     "metadata": {},
     "output_type": "execute_result"
    }
   ],
   "source": [
    "df.groupby('month').delay.mean()"
   ]
  },
  {
   "cell_type": "markdown",
   "id": "0d6ab3b0",
   "metadata": {},
   "source": [
    "## Bonus\n",
    "    -Ravinder's code"
   ]
  },
  {
   "cell_type": "code",
   "execution_count": 94,
   "id": "2d592f28",
   "metadata": {},
   "outputs": [
    {
     "data": {
      "text/html": [
       "<div>\n",
       "<style scoped>\n",
       "    .dataframe tbody tr th:only-of-type {\n",
       "        vertical-align: middle;\n",
       "    }\n",
       "\n",
       "    .dataframe tbody tr th {\n",
       "        vertical-align: top;\n",
       "    }\n",
       "\n",
       "    .dataframe thead th {\n",
       "        text-align: right;\n",
       "    }\n",
       "</style>\n",
       "<table border=\"1\" class=\"dataframe\">\n",
       "  <thead>\n",
       "    <tr style=\"text-align: right;\">\n",
       "      <th></th>\n",
       "      <th>year</th>\n",
       "      <th>source</th>\n",
       "      <th>net_generation</th>\n",
       "    </tr>\n",
       "  </thead>\n",
       "  <tbody>\n",
       "    <tr>\n",
       "      <th>0</th>\n",
       "      <td>2001-01-01</td>\n",
       "      <td>Fossil Fuels</td>\n",
       "      <td>35361</td>\n",
       "    </tr>\n",
       "    <tr>\n",
       "      <th>1</th>\n",
       "      <td>2002-01-01</td>\n",
       "      <td>Fossil Fuels</td>\n",
       "      <td>35991</td>\n",
       "    </tr>\n",
       "    <tr>\n",
       "      <th>2</th>\n",
       "      <td>2003-01-01</td>\n",
       "      <td>Fossil Fuels</td>\n",
       "      <td>36234</td>\n",
       "    </tr>\n",
       "    <tr>\n",
       "      <th>3</th>\n",
       "      <td>2004-01-01</td>\n",
       "      <td>Fossil Fuels</td>\n",
       "      <td>36205</td>\n",
       "    </tr>\n",
       "    <tr>\n",
       "      <th>4</th>\n",
       "      <td>2005-01-01</td>\n",
       "      <td>Fossil Fuels</td>\n",
       "      <td>36883</td>\n",
       "    </tr>\n",
       "    <tr>\n",
       "      <th>5</th>\n",
       "      <td>2006-01-01</td>\n",
       "      <td>Fossil Fuels</td>\n",
       "      <td>37014</td>\n",
       "    </tr>\n",
       "    <tr>\n",
       "      <th>6</th>\n",
       "      <td>2007-01-01</td>\n",
       "      <td>Fossil Fuels</td>\n",
       "      <td>41389</td>\n",
       "    </tr>\n",
       "    <tr>\n",
       "      <th>7</th>\n",
       "      <td>2008-01-01</td>\n",
       "      <td>Fossil Fuels</td>\n",
       "      <td>42734</td>\n",
       "    </tr>\n",
       "    <tr>\n",
       "      <th>8</th>\n",
       "      <td>2009-01-01</td>\n",
       "      <td>Fossil Fuels</td>\n",
       "      <td>38620</td>\n",
       "    </tr>\n",
       "    <tr>\n",
       "      <th>9</th>\n",
       "      <td>2010-01-01</td>\n",
       "      <td>Fossil Fuels</td>\n",
       "      <td>42750</td>\n",
       "    </tr>\n",
       "    <tr>\n",
       "      <th>10</th>\n",
       "      <td>2011-01-01</td>\n",
       "      <td>Fossil Fuels</td>\n",
       "      <td>39361</td>\n",
       "    </tr>\n",
       "    <tr>\n",
       "      <th>11</th>\n",
       "      <td>2012-01-01</td>\n",
       "      <td>Fossil Fuels</td>\n",
       "      <td>37379</td>\n",
       "    </tr>\n",
       "    <tr>\n",
       "      <th>12</th>\n",
       "      <td>2013-01-01</td>\n",
       "      <td>Fossil Fuels</td>\n",
       "      <td>34873</td>\n",
       "    </tr>\n",
       "    <tr>\n",
       "      <th>13</th>\n",
       "      <td>2014-01-01</td>\n",
       "      <td>Fossil Fuels</td>\n",
       "      <td>35250</td>\n",
       "    </tr>\n",
       "    <tr>\n",
       "      <th>14</th>\n",
       "      <td>2015-01-01</td>\n",
       "      <td>Fossil Fuels</td>\n",
       "      <td>32319</td>\n",
       "    </tr>\n",
       "    <tr>\n",
       "      <th>15</th>\n",
       "      <td>2016-01-01</td>\n",
       "      <td>Fossil Fuels</td>\n",
       "      <td>28437</td>\n",
       "    </tr>\n",
       "    <tr>\n",
       "      <th>16</th>\n",
       "      <td>2017-01-01</td>\n",
       "      <td>Fossil Fuels</td>\n",
       "      <td>29329</td>\n",
       "    </tr>\n",
       "    <tr>\n",
       "      <th>17</th>\n",
       "      <td>2001-01-01</td>\n",
       "      <td>Nuclear Energy</td>\n",
       "      <td>3853</td>\n",
       "    </tr>\n",
       "    <tr>\n",
       "      <th>18</th>\n",
       "      <td>2002-01-01</td>\n",
       "      <td>Nuclear Energy</td>\n",
       "      <td>4574</td>\n",
       "    </tr>\n",
       "    <tr>\n",
       "      <th>19</th>\n",
       "      <td>2003-01-01</td>\n",
       "      <td>Nuclear Energy</td>\n",
       "      <td>3988</td>\n",
       "    </tr>\n",
       "    <tr>\n",
       "      <th>20</th>\n",
       "      <td>2004-01-01</td>\n",
       "      <td>Nuclear Energy</td>\n",
       "      <td>4929</td>\n",
       "    </tr>\n",
       "    <tr>\n",
       "      <th>21</th>\n",
       "      <td>2005-01-01</td>\n",
       "      <td>Nuclear Energy</td>\n",
       "      <td>4538</td>\n",
       "    </tr>\n",
       "    <tr>\n",
       "      <th>22</th>\n",
       "      <td>2006-01-01</td>\n",
       "      <td>Nuclear Energy</td>\n",
       "      <td>5095</td>\n",
       "    </tr>\n",
       "    <tr>\n",
       "      <th>23</th>\n",
       "      <td>2007-01-01</td>\n",
       "      <td>Nuclear Energy</td>\n",
       "      <td>4519</td>\n",
       "    </tr>\n",
       "    <tr>\n",
       "      <th>24</th>\n",
       "      <td>2008-01-01</td>\n",
       "      <td>Nuclear Energy</td>\n",
       "      <td>5282</td>\n",
       "    </tr>\n",
       "    <tr>\n",
       "      <th>25</th>\n",
       "      <td>2009-01-01</td>\n",
       "      <td>Nuclear Energy</td>\n",
       "      <td>4679</td>\n",
       "    </tr>\n",
       "    <tr>\n",
       "      <th>26</th>\n",
       "      <td>2010-01-01</td>\n",
       "      <td>Nuclear Energy</td>\n",
       "      <td>4451</td>\n",
       "    </tr>\n",
       "    <tr>\n",
       "      <th>27</th>\n",
       "      <td>2011-01-01</td>\n",
       "      <td>Nuclear Energy</td>\n",
       "      <td>5215</td>\n",
       "    </tr>\n",
       "    <tr>\n",
       "      <th>28</th>\n",
       "      <td>2012-01-01</td>\n",
       "      <td>Nuclear Energy</td>\n",
       "      <td>4347</td>\n",
       "    </tr>\n",
       "    <tr>\n",
       "      <th>29</th>\n",
       "      <td>2013-01-01</td>\n",
       "      <td>Nuclear Energy</td>\n",
       "      <td>5321</td>\n",
       "    </tr>\n",
       "    <tr>\n",
       "      <th>30</th>\n",
       "      <td>2014-01-01</td>\n",
       "      <td>Nuclear Energy</td>\n",
       "      <td>4152</td>\n",
       "    </tr>\n",
       "    <tr>\n",
       "      <th>31</th>\n",
       "      <td>2015-01-01</td>\n",
       "      <td>Nuclear Energy</td>\n",
       "      <td>5243</td>\n",
       "    </tr>\n",
       "    <tr>\n",
       "      <th>32</th>\n",
       "      <td>2016-01-01</td>\n",
       "      <td>Nuclear Energy</td>\n",
       "      <td>4703</td>\n",
       "    </tr>\n",
       "    <tr>\n",
       "      <th>33</th>\n",
       "      <td>2017-01-01</td>\n",
       "      <td>Nuclear Energy</td>\n",
       "      <td>5214</td>\n",
       "    </tr>\n",
       "    <tr>\n",
       "      <th>34</th>\n",
       "      <td>2001-01-01</td>\n",
       "      <td>Renewables</td>\n",
       "      <td>1437</td>\n",
       "    </tr>\n",
       "    <tr>\n",
       "      <th>35</th>\n",
       "      <td>2002-01-01</td>\n",
       "      <td>Renewables</td>\n",
       "      <td>1963</td>\n",
       "    </tr>\n",
       "    <tr>\n",
       "      <th>36</th>\n",
       "      <td>2003-01-01</td>\n",
       "      <td>Renewables</td>\n",
       "      <td>1885</td>\n",
       "    </tr>\n",
       "    <tr>\n",
       "      <th>37</th>\n",
       "      <td>2004-01-01</td>\n",
       "      <td>Renewables</td>\n",
       "      <td>2102</td>\n",
       "    </tr>\n",
       "    <tr>\n",
       "      <th>38</th>\n",
       "      <td>2005-01-01</td>\n",
       "      <td>Renewables</td>\n",
       "      <td>2724</td>\n",
       "    </tr>\n",
       "    <tr>\n",
       "      <th>39</th>\n",
       "      <td>2006-01-01</td>\n",
       "      <td>Renewables</td>\n",
       "      <td>3364</td>\n",
       "    </tr>\n",
       "    <tr>\n",
       "      <th>40</th>\n",
       "      <td>2007-01-01</td>\n",
       "      <td>Renewables</td>\n",
       "      <td>3870</td>\n",
       "    </tr>\n",
       "    <tr>\n",
       "      <th>41</th>\n",
       "      <td>2008-01-01</td>\n",
       "      <td>Renewables</td>\n",
       "      <td>5070</td>\n",
       "    </tr>\n",
       "    <tr>\n",
       "      <th>42</th>\n",
       "      <td>2009-01-01</td>\n",
       "      <td>Renewables</td>\n",
       "      <td>8560</td>\n",
       "    </tr>\n",
       "    <tr>\n",
       "      <th>43</th>\n",
       "      <td>2010-01-01</td>\n",
       "      <td>Renewables</td>\n",
       "      <td>10308</td>\n",
       "    </tr>\n",
       "    <tr>\n",
       "      <th>44</th>\n",
       "      <td>2011-01-01</td>\n",
       "      <td>Renewables</td>\n",
       "      <td>11795</td>\n",
       "    </tr>\n",
       "    <tr>\n",
       "      <th>45</th>\n",
       "      <td>2012-01-01</td>\n",
       "      <td>Renewables</td>\n",
       "      <td>14949</td>\n",
       "    </tr>\n",
       "    <tr>\n",
       "      <th>46</th>\n",
       "      <td>2013-01-01</td>\n",
       "      <td>Renewables</td>\n",
       "      <td>16476</td>\n",
       "    </tr>\n",
       "    <tr>\n",
       "      <th>47</th>\n",
       "      <td>2014-01-01</td>\n",
       "      <td>Renewables</td>\n",
       "      <td>17452</td>\n",
       "    </tr>\n",
       "    <tr>\n",
       "      <th>48</th>\n",
       "      <td>2015-01-01</td>\n",
       "      <td>Renewables</td>\n",
       "      <td>19091</td>\n",
       "    </tr>\n",
       "    <tr>\n",
       "      <th>49</th>\n",
       "      <td>2016-01-01</td>\n",
       "      <td>Renewables</td>\n",
       "      <td>21241</td>\n",
       "    </tr>\n",
       "    <tr>\n",
       "      <th>50</th>\n",
       "      <td>2017-01-01</td>\n",
       "      <td>Renewables</td>\n",
       "      <td>21933</td>\n",
       "    </tr>\n",
       "  </tbody>\n",
       "</table>\n",
       "</div>"
      ],
      "text/plain": [
       "         year          source  net_generation\n",
       "0  2001-01-01    Fossil Fuels           35361\n",
       "1  2002-01-01    Fossil Fuels           35991\n",
       "2  2003-01-01    Fossil Fuels           36234\n",
       "3  2004-01-01    Fossil Fuels           36205\n",
       "4  2005-01-01    Fossil Fuels           36883\n",
       "5  2006-01-01    Fossil Fuels           37014\n",
       "6  2007-01-01    Fossil Fuels           41389\n",
       "7  2008-01-01    Fossil Fuels           42734\n",
       "8  2009-01-01    Fossil Fuels           38620\n",
       "9  2010-01-01    Fossil Fuels           42750\n",
       "10 2011-01-01    Fossil Fuels           39361\n",
       "11 2012-01-01    Fossil Fuels           37379\n",
       "12 2013-01-01    Fossil Fuels           34873\n",
       "13 2014-01-01    Fossil Fuels           35250\n",
       "14 2015-01-01    Fossil Fuels           32319\n",
       "15 2016-01-01    Fossil Fuels           28437\n",
       "16 2017-01-01    Fossil Fuels           29329\n",
       "17 2001-01-01  Nuclear Energy            3853\n",
       "18 2002-01-01  Nuclear Energy            4574\n",
       "19 2003-01-01  Nuclear Energy            3988\n",
       "20 2004-01-01  Nuclear Energy            4929\n",
       "21 2005-01-01  Nuclear Energy            4538\n",
       "22 2006-01-01  Nuclear Energy            5095\n",
       "23 2007-01-01  Nuclear Energy            4519\n",
       "24 2008-01-01  Nuclear Energy            5282\n",
       "25 2009-01-01  Nuclear Energy            4679\n",
       "26 2010-01-01  Nuclear Energy            4451\n",
       "27 2011-01-01  Nuclear Energy            5215\n",
       "28 2012-01-01  Nuclear Energy            4347\n",
       "29 2013-01-01  Nuclear Energy            5321\n",
       "30 2014-01-01  Nuclear Energy            4152\n",
       "31 2015-01-01  Nuclear Energy            5243\n",
       "32 2016-01-01  Nuclear Energy            4703\n",
       "33 2017-01-01  Nuclear Energy            5214\n",
       "34 2001-01-01      Renewables            1437\n",
       "35 2002-01-01      Renewables            1963\n",
       "36 2003-01-01      Renewables            1885\n",
       "37 2004-01-01      Renewables            2102\n",
       "38 2005-01-01      Renewables            2724\n",
       "39 2006-01-01      Renewables            3364\n",
       "40 2007-01-01      Renewables            3870\n",
       "41 2008-01-01      Renewables            5070\n",
       "42 2009-01-01      Renewables            8560\n",
       "43 2010-01-01      Renewables           10308\n",
       "44 2011-01-01      Renewables           11795\n",
       "45 2012-01-01      Renewables           14949\n",
       "46 2013-01-01      Renewables           16476\n",
       "47 2014-01-01      Renewables           17452\n",
       "48 2015-01-01      Renewables           19091\n",
       "49 2016-01-01      Renewables           21241\n",
       "50 2017-01-01      Renewables           21933"
      ]
     },
     "execution_count": 94,
     "metadata": {},
     "output_type": "execute_result"
    }
   ],
   "source": [
    "from vega_datasets import data\n",
    "data.iowa_electricity()\n"
   ]
  },
  {
   "cell_type": "markdown",
   "id": "e75e6e29",
   "metadata": {},
   "source": [
    "- For each row, calculate the percentage of the year's total that energy source provided.\n",
    "- Lineplot of generation over time, color by source\n",
    "- Display the data as table where years are columns, and energy source is rows (Hint: df.pivot_table)\n",
    "- Make a line plot that shows the amount of energy generated over time. Each source should be a separate line?\n",
    "- Is the total generation increasing over time?\n",
    "    - How would you control for increasing consumption over time when considering how much energy is coming from each source?\n",
    "    - express each number as a % of the year's total\n"
   ]
  },
  {
   "cell_type": "code",
   "execution_count": 95,
   "id": "ef6e010d",
   "metadata": {},
   "outputs": [],
   "source": [
    "df = data.iowa_electricity().set_index('year').sort_index()\n"
   ]
  },
  {
   "cell_type": "code",
   "execution_count": 97,
   "id": "293c9e33",
   "metadata": {},
   "outputs": [
    {
     "data": {
      "text/plain": [
       "(51, 2)"
      ]
     },
     "execution_count": 97,
     "metadata": {},
     "output_type": "execute_result"
    }
   ],
   "source": [
    "df.shape"
   ]
  },
  {
   "cell_type": "code",
   "execution_count": 98,
   "id": "41d2fa35",
   "metadata": {},
   "outputs": [
    {
     "data": {
      "text/plain": [
       "year\n",
       "2001-01-01    40651\n",
       "2002-01-01    42528\n",
       "2003-01-01    42107\n",
       "2004-01-01    43236\n",
       "2005-01-01    44145\n",
       "2006-01-01    45473\n",
       "2007-01-01    49778\n",
       "2008-01-01    53086\n",
       "2009-01-01    51859\n",
       "2010-01-01    57509\n",
       "2011-01-01    56371\n",
       "2012-01-01    56675\n",
       "2013-01-01    56670\n",
       "2014-01-01    56854\n",
       "2015-01-01    56653\n",
       "2016-01-01    54381\n",
       "2017-01-01    56476\n",
       "Freq: AS-JAN, Name: net_generation, dtype: int64"
      ]
     },
     "execution_count": 98,
     "metadata": {},
     "output_type": "execute_result"
    }
   ],
   "source": [
    "# what is total generation by year?\n",
    "df.net_generation.resample('YS').sum()"
   ]
  },
  {
   "cell_type": "code",
   "execution_count": 99,
   "id": "2ee9a537",
   "metadata": {},
   "outputs": [],
   "source": [
    "# map the resampled data above (total by year) to the original df\n",
    "\n",
    "df['year_total'] = df.index.map(df.net_generation.resample('YS').sum())"
   ]
  },
  {
   "cell_type": "code",
   "execution_count": 100,
   "id": "160e5393",
   "metadata": {},
   "outputs": [],
   "source": [
    "# For each row, calculate the percentage of the year's total that energy source provided.\n",
    "\n",
    "df['percentage'] = df.net_generation/df.year_total"
   ]
  },
  {
   "cell_type": "code",
   "execution_count": 102,
   "id": "c635e616",
   "metadata": {},
   "outputs": [
    {
     "data": {
      "text/html": [
       "<div>\n",
       "<style scoped>\n",
       "    .dataframe tbody tr th:only-of-type {\n",
       "        vertical-align: middle;\n",
       "    }\n",
       "\n",
       "    .dataframe tbody tr th {\n",
       "        vertical-align: top;\n",
       "    }\n",
       "\n",
       "    .dataframe thead th {\n",
       "        text-align: right;\n",
       "    }\n",
       "</style>\n",
       "<table border=\"1\" class=\"dataframe\">\n",
       "  <thead>\n",
       "    <tr style=\"text-align: right;\">\n",
       "      <th></th>\n",
       "      <th>source</th>\n",
       "      <th>net_generation</th>\n",
       "      <th>year_total</th>\n",
       "      <th>percentage</th>\n",
       "    </tr>\n",
       "    <tr>\n",
       "      <th>year</th>\n",
       "      <th></th>\n",
       "      <th></th>\n",
       "      <th></th>\n",
       "      <th></th>\n",
       "    </tr>\n",
       "  </thead>\n",
       "  <tbody>\n",
       "    <tr>\n",
       "      <th>2001-01-01</th>\n",
       "      <td>Fossil Fuels</td>\n",
       "      <td>35361</td>\n",
       "      <td>40651</td>\n",
       "      <td>0.869868</td>\n",
       "    </tr>\n",
       "    <tr>\n",
       "      <th>2001-01-01</th>\n",
       "      <td>Nuclear Energy</td>\n",
       "      <td>3853</td>\n",
       "      <td>40651</td>\n",
       "      <td>0.094782</td>\n",
       "    </tr>\n",
       "    <tr>\n",
       "      <th>2001-01-01</th>\n",
       "      <td>Renewables</td>\n",
       "      <td>1437</td>\n",
       "      <td>40651</td>\n",
       "      <td>0.035350</td>\n",
       "    </tr>\n",
       "    <tr>\n",
       "      <th>2002-01-01</th>\n",
       "      <td>Fossil Fuels</td>\n",
       "      <td>35991</td>\n",
       "      <td>42528</td>\n",
       "      <td>0.846290</td>\n",
       "    </tr>\n",
       "    <tr>\n",
       "      <th>2002-01-01</th>\n",
       "      <td>Nuclear Energy</td>\n",
       "      <td>4574</td>\n",
       "      <td>42528</td>\n",
       "      <td>0.107553</td>\n",
       "    </tr>\n",
       "  </tbody>\n",
       "</table>\n",
       "</div>"
      ],
      "text/plain": [
       "                    source  net_generation  year_total  percentage\n",
       "year                                                              \n",
       "2001-01-01    Fossil Fuels           35361       40651    0.869868\n",
       "2001-01-01  Nuclear Energy            3853       40651    0.094782\n",
       "2001-01-01      Renewables            1437       40651    0.035350\n",
       "2002-01-01    Fossil Fuels           35991       42528    0.846290\n",
       "2002-01-01  Nuclear Energy            4574       42528    0.107553"
      ]
     },
     "execution_count": 102,
     "metadata": {},
     "output_type": "execute_result"
    }
   ],
   "source": [
    "df.head()\n"
   ]
  },
  {
   "cell_type": "code",
   "execution_count": 103,
   "id": "d7646704",
   "metadata": {},
   "outputs": [],
   "source": [
    "#remember reset_index() - would have helped earlier\n",
    "df1 = df.reset_index()\n"
   ]
  },
  {
   "cell_type": "code",
   "execution_count": 104,
   "id": "f1d54fa4",
   "metadata": {},
   "outputs": [
    {
     "data": {
      "text/plain": [
       "<AxesSubplot:xlabel='year', ylabel='net_generation'>"
      ]
     },
     "execution_count": 104,
     "metadata": {},
     "output_type": "execute_result"
    },
    {
     "data": {
      "image/png": "[encoded data removed]",
      "text/plain": [
       "<Figure size 576x432 with 1 Axes>"
      ]
     },
     "metadata": {
      "needs_background": "light"
     },
     "output_type": "display_data"
    }
   ],
   "source": [
    "# Lineplot of generation over time, color by source:\n",
    "\n",
    "sns.lineplot(data = df1, x = 'year', y = 'net_generation', hue = 'source')"
   ]
  },
  {
   "cell_type": "code",
   "execution_count": 106,
   "id": "d2ace195",
   "metadata": {},
   "outputs": [],
   "source": [
    "# Display the data as table where years are columns, and energy source is rows (Hint: df.pivot_table)\n",
    "\n",
    "# lets make a new column called 'c_year' which is just the year\n",
    "\n",
    "df['c_year'] = df.index.year"
   ]
  },
  {
   "cell_type": "code",
   "execution_count": 107,
   "id": "3e3ec511",
   "metadata": {},
   "outputs": [
    {
     "data": {
      "text/html": [
       "<div>\n",
       "<style scoped>\n",
       "    .dataframe tbody tr th:only-of-type {\n",
       "        vertical-align: middle;\n",
       "    }\n",
       "\n",
       "    .dataframe tbody tr th {\n",
       "        vertical-align: top;\n",
       "    }\n",
       "\n",
       "    .dataframe thead th {\n",
       "        text-align: right;\n",
       "    }\n",
       "</style>\n",
       "<table border=\"1\" class=\"dataframe\">\n",
       "  <thead>\n",
       "    <tr style=\"text-align: right;\">\n",
       "      <th></th>\n",
       "      <th>source</th>\n",
       "      <th>net_generation</th>\n",
       "      <th>year_total</th>\n",
       "      <th>percentage</th>\n",
       "      <th>c_year</th>\n",
       "    </tr>\n",
       "    <tr>\n",
       "      <th>year</th>\n",
       "      <th></th>\n",
       "      <th></th>\n",
       "      <th></th>\n",
       "      <th></th>\n",
       "      <th></th>\n",
       "    </tr>\n",
       "  </thead>\n",
       "  <tbody>\n",
       "    <tr>\n",
       "      <th>2001-01-01</th>\n",
       "      <td>Fossil Fuels</td>\n",
       "      <td>35361</td>\n",
       "      <td>40651</td>\n",
       "      <td>0.869868</td>\n",
       "      <td>2001</td>\n",
       "    </tr>\n",
       "    <tr>\n",
       "      <th>2001-01-01</th>\n",
       "      <td>Nuclear Energy</td>\n",
       "      <td>3853</td>\n",
       "      <td>40651</td>\n",
       "      <td>0.094782</td>\n",
       "      <td>2001</td>\n",
       "    </tr>\n",
       "    <tr>\n",
       "      <th>2001-01-01</th>\n",
       "      <td>Renewables</td>\n",
       "      <td>1437</td>\n",
       "      <td>40651</td>\n",
       "      <td>0.035350</td>\n",
       "      <td>2001</td>\n",
       "    </tr>\n",
       "    <tr>\n",
       "      <th>2002-01-01</th>\n",
       "      <td>Fossil Fuels</td>\n",
       "      <td>35991</td>\n",
       "      <td>42528</td>\n",
       "      <td>0.846290</td>\n",
       "      <td>2002</td>\n",
       "    </tr>\n",
       "    <tr>\n",
       "      <th>2002-01-01</th>\n",
       "      <td>Nuclear Energy</td>\n",
       "      <td>4574</td>\n",
       "      <td>42528</td>\n",
       "      <td>0.107553</td>\n",
       "      <td>2002</td>\n",
       "    </tr>\n",
       "  </tbody>\n",
       "</table>\n",
       "</div>"
      ],
      "text/plain": [
       "                    source  net_generation  year_total  percentage  c_year\n",
       "year                                                                      \n",
       "2001-01-01    Fossil Fuels           35361       40651    0.869868    2001\n",
       "2001-01-01  Nuclear Energy            3853       40651    0.094782    2001\n",
       "2001-01-01      Renewables            1437       40651    0.035350    2001\n",
       "2002-01-01    Fossil Fuels           35991       42528    0.846290    2002\n",
       "2002-01-01  Nuclear Energy            4574       42528    0.107553    2002"
      ]
     },
     "execution_count": 107,
     "metadata": {},
     "output_type": "execute_result"
    }
   ],
   "source": [
    "df.head()"
   ]
  },
  {
   "cell_type": "code",
   "execution_count": 109,
   "id": "07f2503b",
   "metadata": {},
   "outputs": [
    {
     "data": {
      "text/html": [
       "<div>\n",
       "<style scoped>\n",
       "    .dataframe tbody tr th:only-of-type {\n",
       "        vertical-align: middle;\n",
       "    }\n",
       "\n",
       "    .dataframe tbody tr th {\n",
       "        vertical-align: top;\n",
       "    }\n",
       "\n",
       "    .dataframe thead th {\n",
       "        text-align: right;\n",
       "    }\n",
       "</style>\n",
       "<table border=\"1\" class=\"dataframe\">\n",
       "  <thead>\n",
       "    <tr style=\"text-align: right;\">\n",
       "      <th>c_year</th>\n",
       "      <th>2001</th>\n",
       "      <th>2002</th>\n",
       "      <th>2003</th>\n",
       "      <th>2004</th>\n",
       "      <th>2005</th>\n",
       "      <th>2006</th>\n",
       "      <th>2007</th>\n",
       "      <th>2008</th>\n",
       "      <th>2009</th>\n",
       "      <th>2010</th>\n",
       "      <th>2011</th>\n",
       "      <th>2012</th>\n",
       "      <th>2013</th>\n",
       "      <th>2014</th>\n",
       "      <th>2015</th>\n",
       "      <th>2016</th>\n",
       "      <th>2017</th>\n",
       "    </tr>\n",
       "    <tr>\n",
       "      <th>source</th>\n",
       "      <th></th>\n",
       "      <th></th>\n",
       "      <th></th>\n",
       "      <th></th>\n",
       "      <th></th>\n",
       "      <th></th>\n",
       "      <th></th>\n",
       "      <th></th>\n",
       "      <th></th>\n",
       "      <th></th>\n",
       "      <th></th>\n",
       "      <th></th>\n",
       "      <th></th>\n",
       "      <th></th>\n",
       "      <th></th>\n",
       "      <th></th>\n",
       "      <th></th>\n",
       "    </tr>\n",
       "  </thead>\n",
       "  <tbody>\n",
       "    <tr>\n",
       "      <th>Fossil Fuels</th>\n",
       "      <td>35361</td>\n",
       "      <td>35991</td>\n",
       "      <td>36234</td>\n",
       "      <td>36205</td>\n",
       "      <td>36883</td>\n",
       "      <td>37014</td>\n",
       "      <td>41389</td>\n",
       "      <td>42734</td>\n",
       "      <td>38620</td>\n",
       "      <td>42750</td>\n",
       "      <td>39361</td>\n",
       "      <td>37379</td>\n",
       "      <td>34873</td>\n",
       "      <td>35250</td>\n",
       "      <td>32319</td>\n",
       "      <td>28437</td>\n",
       "      <td>29329</td>\n",
       "    </tr>\n",
       "    <tr>\n",
       "      <th>Nuclear Energy</th>\n",
       "      <td>3853</td>\n",
       "      <td>4574</td>\n",
       "      <td>3988</td>\n",
       "      <td>4929</td>\n",
       "      <td>4538</td>\n",
       "      <td>5095</td>\n",
       "      <td>4519</td>\n",
       "      <td>5282</td>\n",
       "      <td>4679</td>\n",
       "      <td>4451</td>\n",
       "      <td>5215</td>\n",
       "      <td>4347</td>\n",
       "      <td>5321</td>\n",
       "      <td>4152</td>\n",
       "      <td>5243</td>\n",
       "      <td>4703</td>\n",
       "      <td>5214</td>\n",
       "    </tr>\n",
       "    <tr>\n",
       "      <th>Renewables</th>\n",
       "      <td>1437</td>\n",
       "      <td>1963</td>\n",
       "      <td>1885</td>\n",
       "      <td>2102</td>\n",
       "      <td>2724</td>\n",
       "      <td>3364</td>\n",
       "      <td>3870</td>\n",
       "      <td>5070</td>\n",
       "      <td>8560</td>\n",
       "      <td>10308</td>\n",
       "      <td>11795</td>\n",
       "      <td>14949</td>\n",
       "      <td>16476</td>\n",
       "      <td>17452</td>\n",
       "      <td>19091</td>\n",
       "      <td>21241</td>\n",
       "      <td>21933</td>\n",
       "    </tr>\n",
       "  </tbody>\n",
       "</table>\n",
       "</div>"
      ],
      "text/plain": [
       "c_year           2001   2002   2003   2004   2005   2006   2007   2008   2009  \\\n",
       "source                                                                          \n",
       "Fossil Fuels    35361  35991  36234  36205  36883  37014  41389  42734  38620   \n",
       "Nuclear Energy   3853   4574   3988   4929   4538   5095   4519   5282   4679   \n",
       "Renewables       1437   1963   1885   2102   2724   3364   3870   5070   8560   \n",
       "\n",
       "c_year           2010   2011   2012   2013   2014   2015   2016   2017  \n",
       "source                                                                  \n",
       "Fossil Fuels    42750  39361  37379  34873  35250  32319  28437  29329  \n",
       "Nuclear Energy   4451   5215   4347   5321   4152   5243   4703   5214  \n",
       "Renewables      10308  11795  14949  16476  17452  19091  21241  21933  "
      ]
     },
     "execution_count": 109,
     "metadata": {},
     "output_type": "execute_result"
    }
   ],
   "source": [
    "# use pivot_table to have years as columns:\n",
    "\n",
    "df_pivot = df.pivot_table(index = ['source'], columns= 'c_year', values = 'net_generation' )\n",
    "df_pivot"
   ]
  },
  {
   "cell_type": "code",
   "execution_count": 112,
   "id": "f2f5e33a",
   "metadata": {},
   "outputs": [
    {
     "data": {
      "text/plain": [
       "<AxesSubplot:xlabel='year'>"
      ]
     },
     "execution_count": 112,
     "metadata": {},
     "output_type": "execute_result"
    },
    {
     "data": {
      "image/png": "[encoded data removed]",
      "text/plain": [
       "<Figure size 576x432 with 1 Axes>"
      ]
     },
     "metadata": {
      "needs_background": "light"
     },
     "output_type": "display_data"
    }
   ],
   "source": [
    "# Is the total generation increasing over time?\n",
    "\n",
    "df.net_generation.resample('YS').sum().plot()"
   ]
  },
  {
   "cell_type": "code",
   "execution_count": 114,
   "id": "4958da47",
   "metadata": {},
   "outputs": [],
   "source": [
    "# How would you control for increasing consumption over time when considering how much energy is coming from each source?\n",
    "# express each number as a % of the year's total\n",
    "\n",
    "# lets normalize the dataframe (columnwise):\n",
    "\n",
    "cols = list(df_pivot.columns)\n",
    "df_pivot[cols] = df_pivot[cols] / df_pivot[cols].sum()"
   ]
  },
  {
   "cell_type": "code",
   "execution_count": 115,
   "id": "2b013338",
   "metadata": {},
   "outputs": [
    {
     "data": {
      "text/html": [
       "<div>\n",
       "<style scoped>\n",
       "    .dataframe tbody tr th:only-of-type {\n",
       "        vertical-align: middle;\n",
       "    }\n",
       "\n",
       "    .dataframe tbody tr th {\n",
       "        vertical-align: top;\n",
       "    }\n",
       "\n",
       "    .dataframe thead th {\n",
       "        text-align: right;\n",
       "    }\n",
       "</style>\n",
       "<table border=\"1\" class=\"dataframe\">\n",
       "  <thead>\n",
       "    <tr style=\"text-align: right;\">\n",
       "      <th>c_year</th>\n",
       "      <th>2001</th>\n",
       "      <th>2002</th>\n",
       "      <th>2003</th>\n",
       "      <th>2004</th>\n",
       "      <th>2005</th>\n",
       "      <th>2006</th>\n",
       "      <th>2007</th>\n",
       "      <th>2008</th>\n",
       "      <th>2009</th>\n",
       "      <th>2010</th>\n",
       "      <th>2011</th>\n",
       "      <th>2012</th>\n",
       "      <th>2013</th>\n",
       "      <th>2014</th>\n",
       "      <th>2015</th>\n",
       "      <th>2016</th>\n",
       "      <th>2017</th>\n",
       "    </tr>\n",
       "    <tr>\n",
       "      <th>source</th>\n",
       "      <th></th>\n",
       "      <th></th>\n",
       "      <th></th>\n",
       "      <th></th>\n",
       "      <th></th>\n",
       "      <th></th>\n",
       "      <th></th>\n",
       "      <th></th>\n",
       "      <th></th>\n",
       "      <th></th>\n",
       "      <th></th>\n",
       "      <th></th>\n",
       "      <th></th>\n",
       "      <th></th>\n",
       "      <th></th>\n",
       "      <th></th>\n",
       "      <th></th>\n",
       "    </tr>\n",
       "  </thead>\n",
       "  <tbody>\n",
       "    <tr>\n",
       "      <th>Fossil Fuels</th>\n",
       "      <td>0.869868</td>\n",
       "      <td>0.846290</td>\n",
       "      <td>0.860522</td>\n",
       "      <td>0.837381</td>\n",
       "      <td>0.835497</td>\n",
       "      <td>0.813978</td>\n",
       "      <td>0.831472</td>\n",
       "      <td>0.804996</td>\n",
       "      <td>0.744712</td>\n",
       "      <td>0.743362</td>\n",
       "      <td>0.698249</td>\n",
       "      <td>0.659532</td>\n",
       "      <td>0.615370</td>\n",
       "      <td>0.620009</td>\n",
       "      <td>0.570473</td>\n",
       "      <td>0.522922</td>\n",
       "      <td>0.519318</td>\n",
       "    </tr>\n",
       "    <tr>\n",
       "      <th>Nuclear Energy</th>\n",
       "      <td>0.094782</td>\n",
       "      <td>0.107553</td>\n",
       "      <td>0.094711</td>\n",
       "      <td>0.114002</td>\n",
       "      <td>0.102798</td>\n",
       "      <td>0.112045</td>\n",
       "      <td>0.090783</td>\n",
       "      <td>0.099499</td>\n",
       "      <td>0.090225</td>\n",
       "      <td>0.077397</td>\n",
       "      <td>0.092512</td>\n",
       "      <td>0.076700</td>\n",
       "      <td>0.093894</td>\n",
       "      <td>0.073029</td>\n",
       "      <td>0.092546</td>\n",
       "      <td>0.086482</td>\n",
       "      <td>0.092322</td>\n",
       "    </tr>\n",
       "    <tr>\n",
       "      <th>Renewables</th>\n",
       "      <td>0.035350</td>\n",
       "      <td>0.046158</td>\n",
       "      <td>0.044767</td>\n",
       "      <td>0.048617</td>\n",
       "      <td>0.061706</td>\n",
       "      <td>0.073978</td>\n",
       "      <td>0.077745</td>\n",
       "      <td>0.095505</td>\n",
       "      <td>0.165063</td>\n",
       "      <td>0.179242</td>\n",
       "      <td>0.209239</td>\n",
       "      <td>0.263767</td>\n",
       "      <td>0.290736</td>\n",
       "      <td>0.306962</td>\n",
       "      <td>0.336981</td>\n",
       "      <td>0.390596</td>\n",
       "      <td>0.388360</td>\n",
       "    </tr>\n",
       "  </tbody>\n",
       "</table>\n",
       "</div>"
      ],
      "text/plain": [
       "c_year              2001      2002      2003      2004      2005      2006  \\\n",
       "source                                                                       \n",
       "Fossil Fuels    0.869868  0.846290  0.860522  0.837381  0.835497  0.813978   \n",
       "Nuclear Energy  0.094782  0.107553  0.094711  0.114002  0.102798  0.112045   \n",
       "Renewables      0.035350  0.046158  0.044767  0.048617  0.061706  0.073978   \n",
       "\n",
       "c_year              2007      2008      2009      2010      2011      2012  \\\n",
       "source                                                                       \n",
       "Fossil Fuels    0.831472  0.804996  0.744712  0.743362  0.698249  0.659532   \n",
       "Nuclear Energy  0.090783  0.099499  0.090225  0.077397  0.092512  0.076700   \n",
       "Renewables      0.077745  0.095505  0.165063  0.179242  0.209239  0.263767   \n",
       "\n",
       "c_year              2013      2014      2015      2016      2017  \n",
       "source                                                            \n",
       "Fossil Fuels    0.615370  0.620009  0.570473  0.522922  0.519318  \n",
       "Nuclear Energy  0.093894  0.073029  0.092546  0.086482  0.092322  \n",
       "Renewables      0.290736  0.306962  0.336981  0.390596  0.388360  "
      ]
     },
     "execution_count": 115,
     "metadata": {},
     "output_type": "execute_result"
    }
   ],
   "source": [
    "# normalized dataframe\n",
    "df_pivot"
   ]
  },
  {
   "cell_type": "code",
   "execution_count": 116,
   "id": "6e371122",
   "metadata": {},
   "outputs": [
    {
     "data": {
      "text/plain": [
       "<AxesSubplot:xlabel='c_year'>"
      ]
     },
     "execution_count": 116,
     "metadata": {},
     "output_type": "execute_result"
    },
    {
     "data": {
      "image/png": "[encoded data removed]",
      "text/plain": [
       "<Figure size 576x432 with 1 Axes>"
      ]
     },
     "metadata": {
      "needs_background": "light"
     },
     "output_type": "display_data"
    }
   ],
   "source": [
    "# transpose the dataframe above and plot the data for three sources\n",
    "df_pivot.T.plot()"
   ]
  },
  {
   "cell_type": "markdown",
   "id": "92935efe",
   "metadata": {},
   "source": [
    "Takeaways:\n",
    "\n",
    "Fossil fuel use (as % of total) is decreasing.\n",
    "Nuclear energy is flat\n",
    "Renewables use is increasing"
   ]
  },
  {
   "cell_type": "code",
   "execution_count": null,
   "id": "7624d00a",
   "metadata": {},
   "outputs": [],
   "source": []
  },
  {
   "cell_type": "code",
   "execution_count": null,
   "id": "727c7456",
   "metadata": {},
   "outputs": [],
   "source": []
  },
  {
   "cell_type": "markdown",
   "id": "d2056b9b",
   "metadata": {},
   "source": [
    "- Use the sf_temps dataset\n",
    "- Create 4 categories for temperature, cold, cool, warm, hot (hint: use pd.cut or pd.qcut for this)\n",
    "- How does the occurances of these 4 categories change month over month? i.e. how many days have each distinction? Visualize this and give the visual appropriate colors for each category.\n",
    "- Create pretty labels for time plots\n",
    "- Visualize the number of days of each month that fall into each bin by year (e.g. x=month, y=n_days, hue=temp_bin) or st similar"
   ]
  },
  {
   "cell_type": "code",
   "execution_count": null,
   "id": "27e4a6f6",
   "metadata": {},
   "outputs": [],
   "source": []
  },
  {
   "cell_type": "markdown",
   "id": "20fe19fd",
   "metadata": {},
   "source": [
    "Explore the birdstrikes dataset.\n",
    "\n",
    "df = data.birdstrikes()\n"
   ]
  }
 ],
 "metadata": {
  "kernelspec": {
   "display_name": "Python 3",
   "language": "python",
   "name": "python3"
  },
  "language_info": {
   "codemirror_mode": {
    "name": "ipython",
    "version": 3
   },
   "file_extension": ".py",
   "mimetype": "text/x-python",
   "name": "python",
   "nbconvert_exporter": "python",
   "pygments_lexer": "ipython3",
   "version": "3.8.8"
  }
 },
 "nbformat": 4,
 "nbformat_minor": 5
}
